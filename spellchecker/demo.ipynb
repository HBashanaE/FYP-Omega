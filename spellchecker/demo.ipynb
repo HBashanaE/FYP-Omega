{
 "cells": [
  {
   "cell_type": "code",
   "execution_count": 1,
   "metadata": {},
   "outputs": [],
   "source": [
    "from os.path import isfile, join, dirname, join\n",
    "from os import listdir\n",
    "import json\n",
    "from CharRNN import CharRNN\n",
    "from spellchecker import SpellChecker\n",
    "import torch\n",
    "import torch.nn as nn\n",
    "import torch.nn.functional as F\n",
    "import numpy as np\n",
    "from utils import one_hot_encode, preprocess, tokenize\n",
    "import os\n",
    "import pandas as pd\n",
    "from unicodedata import normalize"
   ]
  },
  {
   "cell_type": "code",
   "execution_count": 2,
   "metadata": {},
   "outputs": [],
   "source": [
    "dirname = os.path.dirname(\"\")\n",
    "dictionaryPath = os.path.join(\n",
    "    dirname, '../Data/combined all names - dictionary - train.json')\n",
    "neuralModelPath = os.path.join(dirname, '../Data/nn-model-tokenized.pth')\n",
    "ngramModelPath = os.path.join(dirname, '../ngram_model/my_classifier.pickle')\n",
    "\n",
    "insertionPath = os.path.join(\n",
    "    dirname, '../error_model/Probability sets/insertion_probabilities.json')\n",
    "deletionPath = os.path.join(\n",
    "    dirname, '../error_model/Probability sets/deletion_probabilities.json')\n",
    "substitutionPath = os.path.join(\n",
    "    dirname, '../error_model/Probability sets/substitution_probabilities.json')\n",
    "\n",
    "\n",
    "spellChecker = SpellChecker(\n",
    "    dictionaryPath, neuralModelPath, ngramModelPath, insertionPath, deletionPath, substitutionPath)  "
   ]
  },
  {
   "cell_type": "code",
   "execution_count": 3,
   "metadata": {},
   "outputs": [],
   "source": [
    "def demo(error, correct):\n",
    "    suggestions = [x[1] + ' <==' if x[1] in correct else x[1] for x in spellChecker.correctSpelling(error)]\n",
    "\n",
    "    print('==========================================================\\n')\n",
    "    print(f'Input: {error}\\n')\n",
    "    print((f'Expexted output(s): {\" \".join(correct)}\\n'))\n",
    "    print('Suggestions: \\n')\n",
    "    print('\\n'.join(suggestions + ['']))\n",
    "    print('==========================================================\\n')"
   ]
  },
  {
   "cell_type": "code",
   "execution_count": 4,
   "metadata": {},
   "outputs": [
    {
     "name": "stdout",
     "output_type": "stream",
     "text": [
      "==========================================================\n",
      "\n",
      "Input: රෂ්ණි\n",
      "\n",
      "Expexted output(s): රෂිණි\n",
      "\n",
      "Suggestions: \n",
      "\n",
      "රෛෂ්ණි\n",
      "රෂ්ණි\n",
      "රෂිණි <==\n",
      "රතේෂ්ණි\n",
      "බ්‍රීරෂ්ණි\n",
      "ට්‍රේෂ්ණි\n",
      "රෂෂ්ණි\n",
      "රත්‍රෂ්ණි\n",
      "ගෛෂ්ණි\n",
      "රඉෂ්ණි\n",
      "\n",
      "==========================================================\n",
      "\n"
     ]
    }
   ],
   "source": [
    "demo('රෂ්ණි', ['රෂිණි'])"
   ]
  },
  {
   "cell_type": "code",
   "execution_count": 5,
   "metadata": {},
   "outputs": [
    {
     "name": "stdout",
     "output_type": "stream",
     "text": [
      "==========================================================\n",
      "\n",
      "Input: වෙල්ලසාම්\n",
      "\n",
      "Expexted output(s): වෙල්ලසාමි\n",
      "\n",
      "Suggestions: \n",
      "\n",
      "වෙල්ලසාමි <==\n",
      "වෙල්ලෛසාම්\n",
      "වෙල්ලසාම්\n",
      "බ්‍රීවෙල්ලසාම්\n",
      "වෙල්ලෂසාම්\n",
      "ත්වෙල්ලසාම්\n",
      "වෙල්ලසාඊම්\n",
      "වෙල්ඉලසාම්\n",
      "චෙල්ලසාම්\n",
      "වෙල්ලඝාම්\n",
      "\n",
      "==========================================================\n",
      "\n"
     ]
    }
   ],
   "source": [
    "demo('වෙල්ලසාම්', ['වෙල්ලසාමි'])"
   ]
  },
  {
   "cell_type": "code",
   "execution_count": 6,
   "metadata": {},
   "outputs": [
    {
     "name": "stdout",
     "output_type": "stream",
     "text": [
      "==========================================================\n",
      "\n",
      "Input: අබදුල්\n",
      "\n",
      "Expexted output(s): අබ්දුල්\n",
      "\n",
      "Suggestions: \n",
      "\n",
      "අබ්දුල් <==\n",
      "අබද්‍ද්‍රල්\n",
      "අබදුල්\n",
      "බ්‍රීඅබදුල්\n",
      "අබදූල්\n",
      "අබදුඉල්\n",
      "අඊබදුල්\n",
      "අබෂිදුල්\n",
      "අබෛදුල්\n",
      "අශ්‍රබදුල්\n",
      "\n",
      "==========================================================\n",
      "\n"
     ]
    }
   ],
   "source": [
    "demo('අබදුල්', ['අබ්දුල්'])"
   ]
  },
  {
   "cell_type": "code",
   "execution_count": 7,
   "metadata": {},
   "outputs": [
    {
     "name": "stdout",
     "output_type": "stream",
     "text": [
      "==========================================================\n",
      "\n",
      "Input: පතිරණා\n",
      "\n",
      "Expexted output(s): පතිරණ\n",
      "\n",
      "Suggestions: \n",
      "\n",
      "පතිරණා\n",
      "පතිරතේණා\n",
      "පතිරෛණා\n",
      "බ්‍රීපතිරණා\n",
      "පතිරෂණා\n",
      "පතිරත්‍රණා\n",
      "පතිට්‍රේණා\n",
      "පති්‍රරණා\n",
      "පතිරඉණා\n",
      "පෛතිරණා\n",
      "\n",
      "==========================================================\n",
      "\n"
     ]
    }
   ],
   "source": [
    "demo('පතිරණා', ['පතිරණ'])"
   ]
  },
  {
   "cell_type": "code",
   "execution_count": 8,
   "metadata": {},
   "outputs": [
    {
     "name": "stdout",
     "output_type": "stream",
     "text": [
      "==========================================================\n",
      "\n",
      "Input: කමල\n",
      "\n",
      "Expexted output(s): කමල් කමලා\n",
      "\n",
      "Suggestions: \n",
      "\n",
      "කමල\n",
      "කමලෛ\n",
      "කමඬල\n",
      "කමණී\n",
      "බ්‍රීකමල\n",
      "කමණීල\n",
      "කමළල\n",
      "කමලෑ\n",
      "ත්කමල\n",
      "කෆාමල\n",
      "\n",
      "==========================================================\n",
      "\n"
     ]
    }
   ],
   "source": [
    "demo('කමල', ['කමල්', 'කමලා'])"
   ]
  },
  {
   "cell_type": "code",
   "execution_count": 9,
   "metadata": {},
   "outputs": [
    {
     "name": "stdout",
     "output_type": "stream",
     "text": [
      "==========================================================\n",
      "\n",
      "Input: සුමනතිරන්\n",
      "\n",
      "Expexted output(s): සුමන්තිරන්\n",
      "\n",
      "Suggestions: \n",
      "\n",
      "සුමඬනතිරන්\n",
      "සුමනති්‍රරන්\n",
      "සුමනතිරන්\n",
      "සුමනතිරෂන්\n",
      "ඝුමනතිරන්\n",
      "බ්‍රීසුමනතිරන්\n",
      "සුමනතිරතේන්\n",
      "සුමනතිරත්‍රන්\n",
      "සුමනතිරෛන්\n",
      "සුමණීනතිරන්\n",
      "\n",
      "==========================================================\n",
      "\n"
     ]
    }
   ],
   "source": [
    "demo('සුමනතිරන්', ['සුමන්තිරන්'])"
   ]
  },
  {
   "cell_type": "code",
   "execution_count": null,
   "metadata": {},
   "outputs": [],
   "source": []
  }
 ],
 "metadata": {
  "interpreter": {
   "hash": "08465013b2823437a432090d36168a052ea896abae7de49d932d83247487b1e3"
  },
  "kernelspec": {
   "display_name": "Python 3",
   "language": "python",
   "name": "python3"
  },
  "language_info": {
   "codemirror_mode": {
    "name": "ipython",
    "version": 3
   },
   "file_extension": ".py",
   "mimetype": "text/x-python",
   "name": "python",
   "nbconvert_exporter": "python",
   "pygments_lexer": "ipython3",
   "version": "3.7.10"
  }
 },
 "nbformat": 4,
 "nbformat_minor": 2
}
