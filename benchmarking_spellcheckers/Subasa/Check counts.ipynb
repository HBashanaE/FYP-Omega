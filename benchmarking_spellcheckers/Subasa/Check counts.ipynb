{
 "cells": [
  {
   "cell_type": "code",
   "execution_count": 1,
   "metadata": {},
   "outputs": [],
   "source": [
    "import pandas as pd\n",
    "errors = pd.read_csv('Subasa 1.csv')"
   ]
  },
  {
   "cell_type": "code",
   "execution_count": 7,
   "metadata": {},
   "outputs": [
    {
     "name": "stdout",
     "output_type": "stream",
     "text": [
      "truePositive =4\n",
      "trueNegative=7463\n",
      "falsePositive = 0\n",
      "falseNegative = 17537\n",
      "correctSuggestion = 0\n",
      "incorrectSuggestion = 4\n"
     ]
    }
   ],
   "source": [
    "truePositive = 0\n",
    "trueNegative=0\n",
    "falsePositive = 0\n",
    "falseNegative = 0\n",
    "correctSuggestion = 0\n",
    "incorrectSuggestion = 0\n",
    "\n",
    "for index, row in errors.iterrows():\n",
    "    # if index>5:\n",
    "    #     break\n",
    "    #print (row['original'],row['Error'],row['Corrected'])\n",
    "    if row['original']==row['Error']:\n",
    "        if row['original']==row['Corrected']:\n",
    "            trueNegative+=1\n",
    "            #print('true n')\n",
    "        else:\n",
    "            falsePositive+=1\n",
    "            #print('false p')\n",
    "    else:\n",
    "        if row['Error']==row['Corrected']:\n",
    "            falseNegative+=1\n",
    "            #print('false n')\n",
    "        else:\n",
    "            truePositive+=1\n",
    "            #print('true p')     \n",
    "            if row['original']==row['Corrected']:\n",
    "                correctSuggestion+=1\n",
    "                #print('correct')  \n",
    "            else:\n",
    "                incorrectSuggestion+=1\n",
    "                #print('incorrect')  \n",
    "print(f'{truePositive =}\\n{trueNegative=}\\n{falsePositive = }\\n{falseNegative = }\\n{correctSuggestion = }\\n{incorrectSuggestion = }')\n",
    "            "
   ]
  }
 ],
 "metadata": {
  "interpreter": {
   "hash": "627a90b54e6da1f209648a2c9c5f7e12610f05c4265361c3c1b7d26135e86100"
  },
  "kernelspec": {
   "display_name": "Python 3.8.8 64-bit ('base': conda)",
   "name": "python3"
  },
  "language_info": {
   "codemirror_mode": {
    "name": "ipython",
    "version": 3
   },
   "file_extension": ".py",
   "mimetype": "text/x-python",
   "name": "python",
   "nbconvert_exporter": "python",
   "pygments_lexer": "ipython3",
   "version": "3.8.8"
  },
  "orig_nbformat": 4
 },
 "nbformat": 4,
 "nbformat_minor": 2
}
