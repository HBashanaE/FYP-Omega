{
 "cells": [
  {
   "cell_type": "code",
   "execution_count": 1,
   "source": [
    "from collections import defaultdict\r\n",
    "from unicodedata import normalize as unicodeNormalize\r\n",
    "import regex as re\r\n",
    "\r\n",
    "from nltk.util import pad_sequence\r\n",
    "from nltk.util import bigrams\r\n",
    "from nltk.util import ngrams\r\n",
    "from nltk.util import everygrams\r\n",
    "from nltk.lm.preprocessing import pad_both_ends\r\n",
    "from nltk.lm.preprocessing import flatten"
   ],
   "outputs": [],
   "metadata": {}
  },
  {
   "cell_type": "code",
   "execution_count": 2,
   "source": [
    "# import os\r\n",
    "# script_dir = os.path.dirname(__file__)"
   ],
   "outputs": [],
   "metadata": {}
  },
  {
   "cell_type": "code",
   "execution_count": 3,
   "source": [
    "suffixesList = [ \r\n",
    "    \"්\", \r\n",
    "    \"ා\", \r\n",
    "    \"ැ\", \r\n",
    "    \"ෑ\", \r\n",
    "    \"ි\", \r\n",
    "    \"ී\", \r\n",
    "    \"ු\", \r\n",
    "    \"ූ\", \r\n",
    "    \"ෙ\", \r\n",
    "    \"ේ\", \r\n",
    "    \"ෛ\", \r\n",
    "    \"ො\", \r\n",
    "    \"ෝ\" ,\r\n",
    "    \"ෞ\",\r\n",
    "    \"ෘ\",\r\n",
    "    \"ෲ\",\r\n",
    "    \"ං\"\r\n",
    "    ]"
   ],
   "outputs": [],
   "metadata": {}
  },
  {
   "cell_type": "code",
   "execution_count": 4,
   "source": [
    "def tokenize(text):\r\n",
    "    tokens = []\r\n",
    "    li = 1\r\n",
    "    while li < len(text):\r\n",
    "    # for li in range(1, len(text)):\r\n",
    "        prevChar, currentChar = text[li - 1], text[li]\r\n",
    "        if(currentChar == '\\u200d'):\r\n",
    "                if(li < len(text) - 1):\r\n",
    "                    if(prevChar == suffixesList[0] and (text[li + 1] == 'ර' or text[li + 1] == 'ය' or text[li + 1] == 'ද')):\r\n",
    "                        tokens.append(tokens.pop()+currentChar+text[li + 1])\r\n",
    "                        li += 1\r\n",
    "        elif(currentChar in suffixesList):\r\n",
    "            if(li != 1):\r\n",
    "                tokens.append(f\"{tokens.pop()}{currentChar}\")\r\n",
    "            else:\r\n",
    "                tokens.append(f\"{prevChar}{currentChar}\")\r\n",
    "        else:\r\n",
    "            if(li == 1):\r\n",
    "                tokens.append(prevChar)\r\n",
    "            tokens.append(currentChar)\r\n",
    "        li += 1\r\n",
    "    return tokens"
   ],
   "outputs": [],
   "metadata": {}
  },
  {
   "cell_type": "code",
   "execution_count": 5,
   "source": [
    "lines = []\r\n",
    "with open('All.txt', 'r', encoding='utf-8') as f:\r\n",
    "    for line in f.readlines():\r\n",
    "        line = re.sub(r'[^\\w]|_|[a-zA-Z]|\\u200c', ' ', line)\r\n",
    "        line = unicodeNormalize(\"NFC\", line.strip())\r\n",
    "        for sub in line.split():\r\n",
    "            sub = tokenize(sub)\r\n",
    "            if(len(sub) > 1):\r\n",
    "                lines.append(sub)"
   ],
   "outputs": [],
   "metadata": {}
  },
  {
   "cell_type": "code",
   "execution_count": 6,
   "source": [
    "list(bigrams(pad_both_ends(lines[0], n=2)))"
   ],
   "outputs": [
    {
     "output_type": "execute_result",
     "data": {
      "text/plain": [
       "[('<s>', 'අං'), ('අං', 'ජ'), ('ජ', 'ලී'), ('ලී', '</s>')]"
      ]
     },
     "metadata": {},
     "execution_count": 6
    }
   ],
   "metadata": {}
  },
  {
   "cell_type": "code",
   "execution_count": 13,
   "source": [
    "bigrams(pad_both_ends(lines[0], n=2))"
   ],
   "outputs": [
    {
     "output_type": "execute_result",
     "data": {
      "text/plain": [
       "<generator object bigrams at 0x000001BD7BF2E350>"
      ]
     },
     "metadata": {},
     "execution_count": 13
    }
   ],
   "metadata": {}
  },
  {
   "cell_type": "code",
   "execution_count": 11,
   "source": [
    "#len(lines)\r\n",
    "\r\n",
    "import random\r\n",
    "\r\n",
    "\r\n",
    "random.shuffle(lines)\r\n",
    "n=len(lines)*8//10\r\n",
    "train_dataset = lines[:n]\r\n",
    "test_dataset = lines[n:]\r\n",
    "\r\n",
    "len(train_dataset),len(test_dataset)"
   ],
   "outputs": [
    {
     "output_type": "execute_result",
     "data": {
      "text/plain": [
       "(48096, 12024)"
      ]
     },
     "metadata": {},
     "execution_count": 11
    }
   ],
   "metadata": {}
  },
  {
   "cell_type": "code",
   "execution_count": 27,
   "source": [
    "from nltk.lm import KneserNeyInterpolated\r\n",
    "from nltk.lm.preprocessing import padded_everygram_pipeline\r\n",
    "\r\n",
    "n = 2\r\n",
    "train_data, padded_sents = padded_everygram_pipeline(n, train_dataset)\r\n",
    "\r\n",
    "model = KneserNeyInterpolated(n)\r\n",
    "model.fit(train_data, padded_sents)\r\n",
    "len(model.vocab)"
   ],
   "outputs": [
    {
     "output_type": "execute_result",
     "data": {
      "text/plain": [
       "676"
      ]
     },
     "metadata": {},
     "execution_count": 27
    }
   ],
   "metadata": {}
  },
  {
   "cell_type": "code",
   "execution_count": 37,
   "source": [
    "#model.score('<s>', 'අං')\r\n",
    "#model.counts[['<s>']]['අං']\r\n",
    "model.score('</s>', ['<s>','දි', 'ල', 'හා', 'නි'])"
   ],
   "outputs": [
    {
     "output_type": "execute_result",
     "data": {
      "text/plain": [
       "0.4192064618243435"
      ]
     },
     "metadata": {},
     "execution_count": 37
    }
   ],
   "metadata": {}
  },
  {
   "cell_type": "code",
   "execution_count": 29,
   "source": [
    "model.perplexity(list(bigrams(pad_both_ends(train_dataset, n=2))))"
   ],
   "outputs": [
    {
     "output_type": "execute_result",
     "data": {
      "text/plain": [
       "676.097690815458"
      ]
     },
     "metadata": {},
     "execution_count": 29
    }
   ],
   "metadata": {}
  },
  {
   "cell_type": "code",
   "execution_count": 39,
   "source": [
    "import matplotlib.pyplot as plt\r\n",
    "scores=[]\r\n",
    "for word in test_dataset:\r\n",
    "    starting = word[:]\r\n",
    "    starting.insert(0, '<s>')\r\n",
    "    scores.append(model.score('</s>', starting))\r\n",
    "\r\n",
    "plt.boxplot(scores)\r\n",
    "plt.show()"
   ],
   "outputs": [
    {
     "output_type": "display_data",
     "data": {
      "image/png": "[encoded data removed]",
      "text/plain": [
       "<Figure size 432x288 with 1 Axes>"
      ]
     },
     "metadata": {
      "needs_background": "light"
     }
    }
   ],
   "metadata": {}
  }
 ],
 "metadata": {
  "orig_nbformat": 4,
  "language_info": {
   "name": "python",
   "version": "3.8.8",
   "mimetype": "text/x-python",
   "codemirror_mode": {
    "name": "ipython",
    "version": 3
   },
   "pygments_lexer": "ipython3",
   "nbconvert_exporter": "python",
   "file_extension": ".py"
  },
  "kernelspec": {
   "name": "python3",
   "display_name": "Python 3.8.8 64-bit ('base': conda)"
  },
  "interpreter": {
   "hash": "627a90b54e6da1f209648a2c9c5f7e12610f05c4265361c3c1b7d26135e86100"
  }
 },
 "nbformat": 4,
 "nbformat_minor": 2
}