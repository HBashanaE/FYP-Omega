{
 "cells": [
  {
   "cell_type": "code",
   "execution_count": 1,
   "metadata": {},
   "outputs": [],
   "source": [
    "from collections import defaultdict\n",
    "from unicodedata import normalize as unicodeNormalize\n",
    "import regex as re\n",
    "\n",
    "from nltk.util import pad_sequence\n",
    "from nltk.util import bigrams\n",
    "from nltk.util import ngrams\n",
    "from nltk.util import everygrams\n",
    "from nltk.lm.preprocessing import pad_both_ends\n",
    "from nltk.lm.preprocessing import flatten"
   ]
  },
  {
   "cell_type": "code",
   "execution_count": 2,
   "metadata": {},
   "outputs": [],
   "source": [
    "# import os\n",
    "# script_dir = os.path.dirname(__file__)"
   ]
  },
  {
   "cell_type": "code",
   "execution_count": 3,
   "metadata": {},
   "outputs": [],
   "source": [
    "suffixesList = [ \n",
    "    \"්\", \n",
    "    \"ා\", \n",
    "    \"ැ\", \n",
    "    \"ෑ\", \n",
    "    \"ි\", \n",
    "    \"ී\", \n",
    "    \"ු\", \n",
    "    \"ූ\", \n",
    "    \"ෙ\", \n",
    "    \"ේ\", \n",
    "    \"ෛ\", \n",
    "    \"ො\", \n",
    "    \"ෝ\" ,\n",
    "    \"ෞ\",\n",
    "    \"ෘ\",\n",
    "    \"ෲ\",\n",
    "    \"ං\"\n",
    "    ]"
   ]
  },
  {
   "cell_type": "code",
   "execution_count": 4,
   "metadata": {},
   "outputs": [],
   "source": [
    "def tokenize(text):\n",
    "    tokens = []\n",
    "    li = 1\n",
    "    while li < len(text):\n",
    "    # for li in range(1, len(text)):\n",
    "        prevChar, currentChar = text[li - 1], text[li]\n",
    "        if(currentChar == '\\u200d'):\n",
    "                if(li < len(text) - 1):\n",
    "                    if(prevChar == suffixesList[0] and (text[li + 1] == 'ර' or text[li + 1] == 'ය' or text[li + 1] == 'ද')):\n",
    "                        tokens.append(tokens.pop()+currentChar+text[li + 1])\n",
    "                        li += 1\n",
    "        elif(currentChar in suffixesList):\n",
    "            if(li != 1):\n",
    "                tokens.append(f\"{tokens.pop()}{currentChar}\")\n",
    "            else:\n",
    "                tokens.append(f\"{prevChar}{currentChar}\")\n",
    "        else:\n",
    "            if(li == 1):\n",
    "                tokens.append(prevChar)\n",
    "            tokens.append(currentChar)\n",
    "        li += 1\n",
    "    return tokens"
   ]
  },
  {
   "cell_type": "code",
   "execution_count": 5,
   "metadata": {},
   "outputs": [],
   "source": [
    "lines = []\n",
    "with open('c:\\\\Users\\\\Yasith\\\\Documents\\\\GitHub\\\\FYP-Omega\\\\Data/combined all names - cleaned - train.txt', 'r', encoding='utf-8') as f:\n",
    "    for line in f.readlines():\n",
    "        line = re.sub(r'[^\\w]|_|[a-zA-Z]|\\u200c', ' ', line)\n",
    "        line = unicodeNormalize(\"NFC\", line.strip())\n",
    "        for sub in line.split():\n",
    "            sub = tokenize(sub)\n",
    "            if(len(sub) > 1):\n",
    "                lines.append(sub)"
   ]
  },
  {
   "cell_type": "code",
   "execution_count": 6,
   "metadata": {},
   "outputs": [
    {
     "data": {
      "text/plain": [
       "[('<s>', 'වි'), ('වි', 'තා'), ('තා', 'න'), ('න', 'ගේ'), ('ගේ', '</s>')]"
      ]
     },
     "execution_count": 6,
     "metadata": {},
     "output_type": "execute_result"
    }
   ],
   "source": [
    "list(bigrams(pad_both_ends(lines[0], n=2)))"
   ]
  },
  {
   "cell_type": "code",
   "execution_count": 7,
   "metadata": {},
   "outputs": [
    {
     "data": {
      "text/plain": [
       "<generator object bigrams at 0x00000199EF8AC970>"
      ]
     },
     "execution_count": 7,
     "metadata": {},
     "output_type": "execute_result"
    }
   ],
   "source": [
    "bigrams(pad_both_ends(lines[0], n=2))"
   ]
  },
  {
   "cell_type": "code",
   "execution_count": 8,
   "metadata": {},
   "outputs": [
    {
     "data": {
      "text/plain": [
       "680"
      ]
     },
     "execution_count": 8,
     "metadata": {},
     "output_type": "execute_result"
    }
   ],
   "source": [
    "from nltk.lm import KneserNeyInterpolated\n",
    "from nltk.lm.preprocessing import padded_everygram_pipeline\n",
    "\n",
    "n = 2\n",
    "train_data, padded_sents = padded_everygram_pipeline(n, lines)\n",
    "\n",
    "model = KneserNeyInterpolated(n)\n",
    "model.fit(train_data, padded_sents)\n",
    "len(model.vocab)"
   ]
  },
  {
   "cell_type": "code",
   "execution_count": 24,
   "metadata": {},
   "outputs": [
    {
     "data": {
      "text/plain": [
       "0.003062794055214776"
      ]
     },
     "execution_count": 24,
     "metadata": {},
     "output_type": "execute_result"
    }
   ],
   "source": [
    "#model.score('<s>', 'අං')\n",
    "#model.counts[['<s>']]['අං']\n",
    "model.score('</s>', ['ත්'])*model.score('ත්', ['සි'])*model.score('සි', ['ය​'])*model.score('ය', ['<s>'])"
   ]
  },
  {
   "cell_type": "code",
   "execution_count": 29,
   "metadata": {},
   "outputs": [
    {
     "data": {
      "text/plain": [
       "676.097690815458"
      ]
     },
     "execution_count": 29,
     "metadata": {},
     "output_type": "execute_result"
    }
   ],
   "source": [
    "model.perplexity(list(bigrams(pad_both_ends(lines, n=2))))"
   ]
  },
  {
   "cell_type": "code",
   "execution_count": 39,
   "metadata": {},
   "outputs": [
    {
     "data": {
      "image/png": "[encoded data removed]",
      "text/plain": [
       "<Figure size 432x288 with 1 Axes>"
      ]
     },
     "metadata": {
      "needs_background": "light"
     },
     "output_type": "display_data"
    }
   ],
   "source": [
    "import matplotlib.pyplot as plt\n",
    "scores=[]\n",
    "for word in test_dataset:\n",
    "    starting = word[:]\n",
    "    starting.insert(0, '<s>')\n",
    "    scores.append(model.score('</s>', starting))\n",
    "\n",
    "plt.boxplot(scores)\n",
    "plt.show()"
   ]
  }
 ],
 "metadata": {
  "interpreter": {
   "hash": "627a90b54e6da1f209648a2c9c5f7e12610f05c4265361c3c1b7d26135e86100"
  },
  "kernelspec": {
   "display_name": "Python 3.8.8 64-bit ('base': conda)",
   "name": "python3"
  },
  "language_info": {
   "codemirror_mode": {
    "name": "ipython",
    "version": 3
   },
   "file_extension": ".py",
   "mimetype": "text/x-python",
   "name": "python",
   "nbconvert_exporter": "python",
   "pygments_lexer": "ipython3",
   "version": "3.8.8"
  },
  "orig_nbformat": 4
 },
 "nbformat": 4,
 "nbformat_minor": 2
}
