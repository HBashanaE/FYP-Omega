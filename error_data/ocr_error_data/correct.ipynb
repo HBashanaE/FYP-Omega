{
 "cells": [
  {
   "cell_type": "code",
   "execution_count": 1,
   "metadata": {},
   "outputs": [],
   "source": [
    "import pandas as pd"
   ]
  },
  {
   "cell_type": "code",
   "execution_count": 3,
   "metadata": {},
   "outputs": [
    {
     "data": {
      "text/html": [
       "<div>\n",
       "<style scoped>\n",
       "    .dataframe tbody tr th:only-of-type {\n",
       "        vertical-align: middle;\n",
       "    }\n",
       "\n",
       "    .dataframe tbody tr th {\n",
       "        vertical-align: top;\n",
       "    }\n",
       "\n",
       "    .dataframe thead th {\n",
       "        text-align: right;\n",
       "    }\n",
       "</style>\n",
       "<table border=\"1\" class=\"dataframe\">\n",
       "  <thead>\n",
       "    <tr style=\"text-align: right;\">\n",
       "      <th></th>\n",
       "      <th>Unnamed: 0</th>\n",
       "      <th>original</th>\n",
       "      <th>Malith</th>\n",
       "      <th>Abhaya</th>\n",
       "    </tr>\n",
       "  </thead>\n",
       "  <tbody>\n",
       "    <tr>\n",
       "      <th>0</th>\n",
       "      <td>0</td>\n",
       "      <td>විතානගේ</td>\n",
       "      <td>චිතානගේ</td>\n",
       "      <td>විතානගේ</td>\n",
       "    </tr>\n",
       "    <tr>\n",
       "      <th>1</th>\n",
       "      <td>1</td>\n",
       "      <td>මැල්ලව</td>\n",
       "      <td>ඞමැල්ලව</td>\n",
       "      <td>ේශමැල්ලව</td>\n",
       "    </tr>\n",
       "    <tr>\n",
       "      <th>2</th>\n",
       "      <td>2</td>\n",
       "      <td>සිල්වා</td>\n",
       "      <td>සිල්වා</td>\n",
       "      <td>සිල්වා</td>\n",
       "    </tr>\n",
       "    <tr>\n",
       "      <th>3</th>\n",
       "      <td>3</td>\n",
       "      <td>සිසිර</td>\n",
       "      <td>සිසිර</td>\n",
       "      <td>සිසිර</td>\n",
       "    </tr>\n",
       "    <tr>\n",
       "      <th>4</th>\n",
       "      <td>4</td>\n",
       "      <td>ප්‍රනාන්දු</td>\n",
       "      <td>ප්‍රනාන්දු</td>\n",
       "      <td>ප්‍රනාන්ද්‍ර</td>\n",
       "    </tr>\n",
       "  </tbody>\n",
       "</table>\n",
       "</div>"
      ],
      "text/plain": [
       "   Unnamed: 0    original      Malith        Abhaya\n",
       "0           0    විතානගේ     චිතානගේ       විතානගේ\n",
       "1           1      මැල්ලව     ඞමැල්ලව      ේශමැල්ලව\n",
       "2           2      සිල්වා      සිල්වා        සිල්වා\n",
       "3           3       සිසිර       සිසිර         සිසිර\n",
       "4           4  ප්‍රනාන්දු  ප්‍රනාන්දු  ප්‍රනාන්ද්‍ර"
      ]
     },
     "execution_count": 3,
     "metadata": {},
     "output_type": "execute_result"
    }
   ],
   "source": [
    "\n",
    "er.head()"
   ]
  },
  {
   "cell_type": "code",
   "execution_count": 10,
   "metadata": {},
   "outputs": [
    {
     "name": "stderr",
     "output_type": "stream",
     "text": [
      "C:\\Users\\Yasith\\AppData\\Local\\Temp/ipykernel_1764/1986776957.py:3: FutureWarning: The default value of regex will change from True to False in a future version.\n",
      "  er[\"Malith\"] = er[\"Malith\"].str.replace('\\d+', '')\n",
      "C:\\Users\\Yasith\\AppData\\Local\\Temp/ipykernel_1764/1986776957.py:4: FutureWarning: The default value of regex will change from True to False in a future version.\n",
      "  er[\"Abhaya\"] = er[\"Abhaya\"].str.replace('\\d+', '')\n"
     ]
    }
   ],
   "source": [
    "for n in range(7,9):\n",
    "    er =pd.read_csv(f'OCR errors training - {n}.csv')\n",
    "    er[\"Malith\"] = er[\"Malith\"].str.replace('\\d+', '')\n",
    "    er[\"Abhaya\"] = er[\"Abhaya\"].str.replace('\\d+', '')\n",
    "    #er.drop('Unnamed: 0',axis=1,inplace=True)\n",
    "    er.to_csv(f'OCR errors training - {n}.csv',encoding='utf-8-sig',index=False)"
   ]
  }
 ],
 "metadata": {
  "interpreter": {
   "hash": "627a90b54e6da1f209648a2c9c5f7e12610f05c4265361c3c1b7d26135e86100"
  },
  "kernelspec": {
   "display_name": "Python 3.8.8 64-bit ('base': conda)",
   "name": "python3"
  },
  "language_info": {
   "codemirror_mode": {
    "name": "ipython",
    "version": 3
   },
   "file_extension": ".py",
   "mimetype": "text/x-python",
   "name": "python",
   "nbconvert_exporter": "python",
   "pygments_lexer": "ipython3",
   "version": "3.8.8"
  },
  "orig_nbformat": 4
 },
 "nbformat": 4,
 "nbformat_minor": 2
}
