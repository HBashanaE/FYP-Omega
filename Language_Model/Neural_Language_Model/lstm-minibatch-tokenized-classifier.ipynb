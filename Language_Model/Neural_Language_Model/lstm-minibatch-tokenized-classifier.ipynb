{
  "cells": [
    {
      "cell_type": "code",
      "execution_count": 29,
      "metadata": {
        "id": "zGeFgfjgBJ-T"
      },
      "outputs": [],
      "source": [
        "import pandas as pd"
      ]
    },
    {
      "cell_type": "code",
      "execution_count": 1,
      "metadata": {
        "id": "XREgZNTG-2dN"
      },
      "outputs": [],
      "source": [
        "# Libraries\n",
        "\n",
        "import matplotlib.pyplot as plt\n",
        "import pandas as pd\n",
        "import torch\n",
        "\n",
        "# Preliminaries\n",
        "\n",
        "from torchtext.legacy.data import Field, TabularDataset, BucketIterator\n",
        "\n",
        "# Models\n",
        "\n",
        "import torch.nn as nn\n",
        "from torch.nn.utils.rnn import pack_padded_sequence, pad_packed_sequence\n",
        "\n",
        "# Training\n",
        "\n",
        "import torch.optim as optim\n",
        "\n",
        "# Evaluation\n",
        "\n",
        "from sklearn.metrics import accuracy_score, classification_report, confusion_matrix\n",
        "import seaborn as sns"
      ]
    },
    {
      "cell_type": "code",
      "execution_count": 2,
      "metadata": {
        "colab": {
          "base_uri": "https://localhost:8080/"
        },
        "id": "O2d7h_-c8Ilw",
        "outputId": "09c3f089-9fce-4de5-fc53-67ec5f0da83f"
      },
      "outputs": [
        {
          "name": "stdout",
          "output_type": "stream",
          "text": [
            "No GPU available, training on CPU; consider making n_epochs very small.\n"
          ]
        }
      ],
      "source": [
        "train_on_gpu = torch.cuda.is_available()\n",
        "if(train_on_gpu):\n",
        "    print('Training on GPU!')\n",
        "else: \n",
        "    print('No GPU available, training on CPU; consider making n_epochs very small.')"
      ]
    },
    {
      "cell_type": "code",
      "execution_count": 3,
      "metadata": {
        "id": "8EV4u7IlLfNk"
      },
      "outputs": [],
      "source": [
        "device = torch.device('cuda' if torch.cuda.is_available() else 'cpu')"
      ]
    },
    {
      "cell_type": "code",
      "execution_count": 4,
      "metadata": {},
      "outputs": [],
      "source": [
        "from unicodedata import normalize\n",
        "\n",
        "def preprocess(name):\n",
        "    name = name.replace('fප', 'ෆ')\n",
        "    name = name.replace('Fප', 'ෆ')\n",
        "    name = list(name)\n",
        "    vowels = \"අ ආ ඇ ඈ ඉ ඊ උ ඌ ඍ ඎ ඏ ඐ එ ඒ ඓ ඔ ඕ ඖ\".split()\n",
        "    consonants = \"ක ඛ ග ඝ ඞ ඟ ච ඡ ජ ඣ ඤ ඥ ඦ ට ඨ ඩ ඪ ණ ඬ ත ථ ද ධ න ඳ ප ඵ බ භ ම ඹ ය ර ල ව ශ ෂ ස හ ළ ෆ\".split()\n",
        "    cannot_followed_by_pillam = \"ආ ඇ ඈ ඉ ඊ ඌ ඍ ඎ ඐ ඒ ඓ ඕ ඖ\".split()\n",
        "    can_followed_by_only_a_specific_pillam = \"අ උ ඏ එ ඔ\".split()\n",
        "    pillam = \"්  ා ැ ෑ ි ී ු  ූ  ෘ ෙ ේ ෛ ො ෝ ෞ  ෲ ෳ\".split()\n",
        "    pillam_cannot_followed_by_pillam = \"්  ා ැ ෑ ි ී ු  ූ  ෘ  ේ ෛ ෝ ෞ  ෲ ෳ\".split()\n",
        "    pillam_can_followed_by_only_specific_pillam = \" ා  ෙ ො\".split()\n",
        "    preprocessed_name = ''\n",
        "    i = 0\n",
        "    while True:\n",
        "        if(i > len(name) - 1):\n",
        "            break\n",
        "        character = name[i]\n",
        "        next_character = name[i+1] if i < len(name) - 1 else None\n",
        "        previous_character = name[i-1] if i > 0 else None\n",
        "        if(character in pillam):\n",
        "            if(previous_character == None or previous_character in cannot_followed_by_pillam or previous_character in pillam_cannot_followed_by_pillam):\n",
        "                name.pop(i)\n",
        "                i -= 1\n",
        "            elif(not any([(previous_character in consonants),\n",
        "                          (previous_character ==\n",
        "                           can_followed_by_only_a_specific_pillam[0] and character == pillam[1]),\n",
        "                          (previous_character ==\n",
        "                 can_followed_by_only_a_specific_pillam[1] and character == pillam[-1]),\n",
        "                          (previous_character ==\n",
        "                 can_followed_by_only_a_specific_pillam[2] and character == pillam[-1]),\n",
        "                          (previous_character == can_followed_by_only_a_specific_pillam[3] and (\n",
        "                    character == pillam[0] or character == pillam[9])),\n",
        "                (previous_character == can_followed_by_only_a_specific_pillam[3] and (\n",
        "                    character == pillam[0] or character == pillam[-1])),\n",
        "                (previous_character ==\n",
        "                 pillam_can_followed_by_only_specific_pillam[0] and character == pillam[0]),\n",
        "                (previous_character == pillam_can_followed_by_only_specific_pillam[1] and (\n",
        "                    character == pillam[0] or character == pillam[1])),\n",
        "                (previous_character ==\n",
        "                 pillam_can_followed_by_only_specific_pillam[2] and character == pillam[0]),\n",
        "            ])):\n",
        "                name.pop(i)\n",
        "            else:\n",
        "                preprocessed_name += character if(3456 <\n",
        "                                                  ord(character) < 3583) else ''\n",
        "        elif(character == '\\u200d' and (previous_character != pillam[0] or (next_character != 'ර' and next_character != 'ය'))):\n",
        "            name.pop(i)\n",
        "            i -= 1\n",
        "        else:\n",
        "            preprocessed_name += character if(3456 < ord(character)\n",
        "                                              < 3583 or character == '\\u200d') else ''\n",
        "        i += 1\n",
        "    return normalize(\"NFC\", preprocessed_name)\n",
        "\n",
        "\n",
        "def tokenize(text):\n",
        "    text = preprocess(text)\n",
        "    suffixesList = [\"්\", \"ා\", \"ැ\", \"ෑ\", \"ි\", \"ී\", \"ු\",\n",
        "                    \"ූ\", \"ෙ\", \"ේ\", \"ෛ\", \"ො\", \"ෝ\", \"ෞ\", \"ෘ\", \"ෲ\"]\n",
        "    tokens = []\n",
        "    li = 1\n",
        "    while li < len(text):\n",
        "        prevChar, currentChar = text[li - 1], text[li]\n",
        "        if(currentChar == '\\u200d'):\n",
        "            if(li < len(text) - 1):\n",
        "                if(prevChar == suffixesList[0] and (text[li + 1] == 'ර' or text[li + 1] == 'ය' or text[li + 1] == 'ද')):\n",
        "                    tokens.append(tokens.pop()+currentChar+text[li + 1])\n",
        "                    li += 1\n",
        "        elif(currentChar in suffixesList):\n",
        "            if(li != 1):\n",
        "                tokens.append(f\"{tokens.pop()}{currentChar}\")\n",
        "            else:\n",
        "                tokens.append(f\"{prevChar}{currentChar}\")\n",
        "        else:\n",
        "            if(li == 1):\n",
        "                tokens.append(prevChar)\n",
        "            tokens.append(currentChar)\n",
        "        li += 1\n",
        "    return tokens"
      ]
    },
    {
      "cell_type": "code",
      "execution_count": 5,
      "metadata": {
        "colab": {
          "base_uri": "https://localhost:8080/"
        },
        "id": "n3OQDnm1-2Zk",
        "outputId": "6e221881-26b8-4625-e44d-edb4d1fe2e92"
      },
      "outputs": [],
      "source": [
        "# Fields\n",
        "\n",
        "label_field = Field(sequential=False, use_vocab=False, batch_first=True, dtype=torch.float)\n",
        "text_field = Field(init_token='<s>', eos_token='</s>', tokenize=tokenize, include_lengths=True, batch_first=True)\n",
        "fields = [('name', text_field), ('label', label_field)]\n",
        "\n",
        "# TabularDataset\n",
        "\n",
        "train, valid, test = TabularDataset.splits(path=r'D:\\Final Year Project\\Codes\\FYP-Omega\\Data\\Neural_Classifier_Data', train=r'Train\\classification_training_names.csv', validation=r'Train\\classification_validation_names.csv', test=r'Test\\classification_testing_names.csv',\n",
        "                                           format='CSV', fields=fields, skip_header=True)\n",
        "\n",
        "# Iterators\n",
        "\n",
        "train_iter = BucketIterator(train, batch_size=32, sort_key=lambda x: len(x.name),\n",
        "                            device=device, sort=True, sort_within_batch=True)\n",
        "valid_iter = BucketIterator(valid, batch_size=32, sort_key=lambda x: len(x.name),\n",
        "                            device=device, sort=True, sort_within_batch=True)\n",
        "test_iter = BucketIterator(test, batch_size=32, sort_key=lambda x: len(x.name),\n",
        "                            device=device, sort=True, sort_within_batch=True)\n",
        "\n",
        "# Vocabulary\n",
        "\n",
        "text_field.build_vocab(train)"
      ]
    },
    {
      "cell_type": "code",
      "execution_count": 6,
      "metadata": {
        "id": "QLMKUD0b-2Vv"
      },
      "outputs": [],
      "source": [
        "class LSTM(nn.Module):\n",
        "\n",
        "    def __init__(self, vocab, dimension=128):\n",
        "        super(LSTM, self).__init__()\n",
        "\n",
        "        self.embedding = nn.Embedding(len(vocab), 300)\n",
        "        self.dimension = dimension\n",
        "        self.lstm = nn.LSTM(input_size=300,\n",
        "                            hidden_size=dimension,\n",
        "                            num_layers=1,\n",
        "                            batch_first=True,\n",
        "                            bidirectional=True)\n",
        "        self.drop = nn.Dropout(p=0.5)\n",
        "\n",
        "        self.fc = nn.Linear(2*dimension, 1)\n",
        "\n",
        "    def forward(self, text, text_len):\n",
        "\n",
        "        text_emb = self.embedding(text)\n",
        "\n",
        "        packed_input = pack_padded_sequence(text_emb, text_len, batch_first=True, enforce_sorted=False)\n",
        "        packed_output, _ = self.lstm(packed_input)\n",
        "        output, _ = pad_packed_sequence(packed_output, batch_first=True)\n",
        "\n",
        "        out_forward = output[range(len(output)), text_len - 1, :self.dimension]\n",
        "        out_reverse = output[:, 0, self.dimension:]\n",
        "        out_reduced = torch.cat((out_forward, out_reverse), 1)\n",
        "        text_fea = self.drop(out_reduced)\n",
        "\n",
        "        text_fea = self.fc(text_fea)\n",
        "        text_fea = torch.squeeze(text_fea, 1)\n",
        "        text_out = torch.sigmoid(text_fea)\n",
        "\n",
        "        return text_out"
      ]
    },
    {
      "cell_type": "code",
      "execution_count": 7,
      "metadata": {
        "id": "wgKiK3JA-2QY"
      },
      "outputs": [],
      "source": [
        "# Save and Load Functions\n",
        "\n",
        "def save_checkpoint(save_path, model, optimizer, valid_loss):\n",
        "\n",
        "    if save_path == None:\n",
        "        return\n",
        "    \n",
        "    state_dict = {'model_state_dict': model.state_dict(),\n",
        "                  'optimizer_state_dict': optimizer.state_dict(),\n",
        "                  'valid_loss': valid_loss}\n",
        "    \n",
        "    torch.save(state_dict, save_path)\n",
        "    print(f'Model saved to ==> {save_path}')\n",
        "\n",
        "\n",
        "def load_checkpoint(load_path, model, optimizer):\n",
        "\n",
        "    if load_path==None:\n",
        "        return\n",
        "    \n",
        "    state_dict = torch.load(load_path, map_location=device)\n",
        "    print(f'Model loaded from <== {load_path}')\n",
        "    \n",
        "    model.load_state_dict(state_dict['model_state_dict'])\n",
        "    optimizer.load_state_dict(state_dict['optimizer_state_dict'])\n",
        "    \n",
        "    return state_dict['valid_loss']\n",
        "\n",
        "\n",
        "def save_metrics(save_path, train_loss_list, valid_loss_list, global_steps_list):\n",
        "\n",
        "    if save_path == None:\n",
        "        return\n",
        "    \n",
        "    state_dict = {'train_loss_list': train_loss_list,\n",
        "                  'valid_loss_list': valid_loss_list,\n",
        "                  'global_steps_list': global_steps_list}\n",
        "    \n",
        "    torch.save(state_dict, save_path)\n",
        "    print(f'Model saved to ==> {save_path}')\n",
        "\n",
        "\n",
        "def load_metrics(load_path):\n",
        "\n",
        "    if load_path==None:\n",
        "        return\n",
        "    \n",
        "    state_dict = torch.load(load_path, map_location=device)\n",
        "    print(f'Model loaded from <== {load_path}')\n",
        "    \n",
        "    return state_dict['train_loss_list'], state_dict['valid_loss_list'], state_dict['global_steps_list']"
      ]
    },
    {
      "cell_type": "code",
      "execution_count": 8,
      "metadata": {
        "colab": {
          "base_uri": "https://localhost:8080/"
        },
        "id": "scn2X6__-2ME",
        "outputId": "560ecbcf-4ff8-4898-ab90-ff5ec69a56b1"
      },
      "outputs": [
        {
          "name": "stdout",
          "output_type": "stream",
          "text": [
            "Epoch [1/10], Step [23075/461510], Train Loss: 0.0202, Valid Loss: 8.4230\n",
            "Model saved to ==> Saved_Models/lstm-minibatch-tokenized-classifier-model.pt\n",
            "Model saved to ==> Saved_Models/lstm-minibatch-tokenized-classifier-metrics.pt\n",
            "Epoch [1/10], Step [46150/461510], Train Loss: 0.0511, Valid Loss: 0.9924\n",
            "Model saved to ==> Saved_Models/lstm-minibatch-tokenized-classifier-model.pt\n",
            "Model saved to ==> Saved_Models/lstm-minibatch-tokenized-classifier-metrics.pt\n",
            "Epoch [2/10], Step [69225/461510], Train Loss: 0.0423, Valid Loss: 5.5000\n",
            "Epoch [2/10], Step [92300/461510], Train Loss: 0.0681, Valid Loss: 1.2537\n",
            "Epoch [3/10], Step [115375/461510], Train Loss: 0.0420, Valid Loss: 7.4719\n",
            "Epoch [3/10], Step [138450/461510], Train Loss: 0.0678, Valid Loss: 1.2788\n",
            "Epoch [4/10], Step [161525/461510], Train Loss: 0.0442, Valid Loss: 5.6037\n",
            "Epoch [4/10], Step [184600/461510], Train Loss: 0.0771, Valid Loss: 1.3178\n",
            "Epoch [5/10], Step [207675/461510], Train Loss: 0.0476, Valid Loss: 8.2188\n",
            "Epoch [5/10], Step [230750/461510], Train Loss: 0.0654, Valid Loss: 1.6764\n",
            "Epoch [6/10], Step [253825/461510], Train Loss: 0.0777, Valid Loss: 10.2093\n",
            "Epoch [6/10], Step [276900/461510], Train Loss: 0.1199, Valid Loss: 1.8313\n",
            "Epoch [7/10], Step [299975/461510], Train Loss: 0.0558, Valid Loss: 10.1350\n",
            "Epoch [7/10], Step [323050/461510], Train Loss: 0.0785, Valid Loss: 1.3889\n",
            "Epoch [8/10], Step [346125/461510], Train Loss: 0.0570, Valid Loss: 7.9790\n",
            "Epoch [8/10], Step [369200/461510], Train Loss: 0.0711, Valid Loss: 1.1763\n",
            "Epoch [9/10], Step [392275/461510], Train Loss: 0.0491, Valid Loss: 8.0417\n",
            "Epoch [9/10], Step [415350/461510], Train Loss: 0.0767, Valid Loss: 1.4638\n",
            "Epoch [10/10], Step [438425/461510], Train Loss: 0.0555, Valid Loss: 7.1629\n",
            "Epoch [10/10], Step [461500/461510], Train Loss: 0.0622, Valid Loss: 1.2197\n",
            "Model saved to ==> Saved_Models/lstm-minibatch-tokenized-classifier-metrics.pt\n",
            "Finished Training!\n"
          ]
        }
      ],
      "source": [
        "# Training Function\n",
        "\n",
        "def train(model,\n",
        "          optimizer,\n",
        "          criterion = nn.BCELoss(),\n",
        "          train_loader = train_iter,\n",
        "          valid_loader = valid_iter,\n",
        "          num_epochs = 5,\n",
        "          eval_every = len(train_iter) // 2,\n",
        "          file_path = './',\n",
        "          best_valid_loss = float(\"Inf\")):\n",
        "    \n",
        "    # initialize running values\n",
        "    running_loss = 0.0\n",
        "    valid_running_loss = 0.0\n",
        "    global_step = 0\n",
        "    train_loss_list = []\n",
        "    valid_loss_list = []\n",
        "    global_steps_list = []\n",
        "\n",
        "    # training loop\n",
        "    model.train()\n",
        "    for epoch in range(num_epochs):\n",
        "        for ((name, name_len), labels), _ in train_loader:           \n",
        "            labels = labels.to(device)\n",
        "            name = name.to(device)\n",
        "            name_len = name_len.to('cpu')\n",
        "            # print(name_len)\n",
        "            output = model(name, name_len)\n",
        "\n",
        "            loss = criterion(output, labels)\n",
        "            optimizer.zero_grad()\n",
        "            loss.backward()\n",
        "            optimizer.step()\n",
        "\n",
        "            # update running values\n",
        "            running_loss += loss.item()\n",
        "            global_step += 1\n",
        "\n",
        "            # evaluation step\n",
        "            if global_step % eval_every == 0:\n",
        "                model.eval()\n",
        "                with torch.no_grad():                    \n",
        "                  # validation loop\n",
        "                  for ((name, name_len), labels), _ in valid_loader:\n",
        "                      labels = labels.to(device)\n",
        "                      name = name.to(device)\n",
        "                      name_len = name_len.to('cpu')\n",
        "                      output = model(name, name_len)\n",
        "\n",
        "                      loss = criterion(output, labels)\n",
        "                      valid_running_loss += loss.item()\n",
        "\n",
        "                # evaluation\n",
        "                average_train_loss = running_loss / eval_every\n",
        "                average_valid_loss = valid_running_loss / len(valid_loader)\n",
        "                train_loss_list.append(average_train_loss)\n",
        "                valid_loss_list.append(average_valid_loss)\n",
        "                global_steps_list.append(global_step)\n",
        "\n",
        "                # resetting running values\n",
        "                running_loss = 0.0                \n",
        "                valid_running_loss = 0.0\n",
        "                model.train()\n",
        "\n",
        "                # print progress\n",
        "                print('Epoch [{}/{}], Step [{}/{}], Train Loss: {:.4f}, Valid Loss: {:.4f}'\n",
        "                      .format(epoch+1, num_epochs, global_step, num_epochs*len(train_loader),\n",
        "                              average_train_loss, average_valid_loss))\n",
        "                \n",
        "                # checkpoint\n",
        "                if best_valid_loss > average_valid_loss:\n",
        "                    best_valid_loss = average_valid_loss\n",
        "                    save_checkpoint(file_path + '/lstm-minibatch-tokenized-classifier-model.pt', model, optimizer, best_valid_loss)\n",
        "                    save_metrics(file_path + '/lstm-minibatch-tokenized-classifier-metrics.pt', train_loss_list, valid_loss_list, global_steps_list)\n",
        "    \n",
        "    save_metrics(file_path + '/lstm-minibatch-tokenized-classifier-metrics.pt', train_loss_list, valid_loss_list, global_steps_list)\n",
        "    print('Finished Training!')\n",
        "\n",
        "\n",
        "model = LSTM(text_field.vocab).to(device)\n",
        "optimizer = optim.Adam(model.parameters(), lr=0.001)\n",
        "\n",
        "train(model=model, optimizer=optimizer, num_epochs=10, file_path=r'Saved_Models')"
      ]
    },
    {
      "cell_type": "code",
      "execution_count": 8,
      "metadata": {
        "colab": {
          "base_uri": "https://localhost:8080/",
          "height": 298
        },
        "id": "vOgCEc1S-2HX",
        "outputId": "d1026569-7b48-47c1-de8e-ec4d700100c0"
      },
      "outputs": [
        {
          "name": "stdout",
          "output_type": "stream",
          "text": [
            "Model loaded from <== ./Saved_Models/lstm-minibatch-tokenized-classifier-metrics.pt\n"
          ]
        },
        {
          "data": {
            "image/png": "[encoded data removed]",
            "text/plain": [
              "<Figure size 432x288 with 1 Axes>"
            ]
          },
          "metadata": {
            "needs_background": "light"
          },
          "output_type": "display_data"
        }
      ],
      "source": [
        "train_loss_list, valid_loss_list, global_steps_list = load_metrics(r'./Saved_Models/lstm-minibatch-tokenized-classifier-metrics.pt')\n",
        "plt.plot(global_steps_list, train_loss_list, label='Train')\n",
        "plt.plot(global_steps_list, valid_loss_list, label='Valid')\n",
        "plt.xlabel('Global Steps')\n",
        "plt.ylabel('Loss')\n",
        "plt.legend()\n",
        "plt.show()"
      ]
    },
    {
      "cell_type": "code",
      "execution_count": 8,
      "metadata": {
        "colab": {
          "base_uri": "https://localhost:8080/",
          "height": 556
        },
        "id": "-rhV9UBY-2Du",
        "outputId": "f35adc9d-130f-4624-b055-6fc25eb465d1"
      },
      "outputs": [
        {
          "name": "stdout",
          "output_type": "stream",
          "text": [
            "Model loaded from <== ./Saved_Models/lstm-minibatch-tokenized-classifier-model.pt\n",
            "Classification Report:\n",
            "              precision    recall  f1-score   support\n",
            "\n",
            "           1     0.9014    0.1219    0.2148    109823\n",
            "           0     0.4924    0.9846    0.6565     95002\n",
            "\n",
            "    accuracy                         0.5220    204825\n",
            "   macro avg     0.6969    0.5533    0.4356    204825\n",
            "weighted avg     0.7117    0.5220    0.4197    204825\n",
            "\n"
          ]
        },
        {
          "data": {
            "image/png": "[encoded data removed]",
            "text/plain": [
              "<Figure size 432x288 with 2 Axes>"
            ]
          },
          "metadata": {
            "needs_background": "light"
          },
          "output_type": "display_data"
        }
      ],
      "source": [
        "# Evaluation Function\n",
        "\n",
        "def evaluate(model, test_loader, threshold=0.5):\n",
        "    y_pred = []\n",
        "    y_true = []\n",
        "\n",
        "    model.eval()\n",
        "    with torch.no_grad():\n",
        "        for ((name, name_len), labels), _ in test_loader:           \n",
        "            labels = labels.to(device)\n",
        "            name = name.to(device)\n",
        "            name_len = name_len.to('cpu')\n",
        "            output = model(name, name_len)\n",
        "\n",
        "            output = (output > threshold).int()\n",
        "            y_pred.extend(output.tolist())\n",
        "            y_true.extend(labels.tolist())\n",
        "    \n",
        "    print('Classification Report:')\n",
        "    print(classification_report(y_true, y_pred, labels=[1,0], digits=4))\n",
        "    \n",
        "    cm = confusion_matrix(y_true, y_pred, labels=[1,0])\n",
        "    ax= plt.subplot()\n",
        "    sns.heatmap(cm, annot=True, ax = ax, cmap='Blues', fmt=\"d\")\n",
        "\n",
        "    ax.set_title('Confusion Matrix')\n",
        "\n",
        "    ax.set_xlabel('Predicted Labels')\n",
        "    ax.set_ylabel('True Labels')\n",
        "\n",
        "    ax.xaxis.set_ticklabels(['Error', 'Correct'])\n",
        "    ax.yaxis.set_ticklabels(['Error', 'Correct'])\n",
        "    \n",
        "    \n",
        "best_model = LSTM(text_field.vocab).to(device)\n",
        "optimizer = optim.Adam(best_model.parameters(), lr=0.001)\n",
        "\n",
        "load_checkpoint(r'./Saved_Models/lstm-minibatch-tokenized-classifier-model.pt', best_model, optimizer)\n",
        "evaluate(best_model, test_iter)"
      ]
    },
    {
      "cell_type": "code",
      "execution_count": 10,
      "metadata": {
        "colab": {
          "base_uri": "https://localhost:8080/",
          "height": 538
        },
        "id": "84jiYlwB4iXu",
        "outputId": "f4e7be20-b7b1-4378-d2b0-89cc7cc42ddb"
      },
      "outputs": [
        {
          "name": "stdout",
          "output_type": "stream",
          "text": [
            "Classification Report:\n",
            "              precision    recall  f1-score   support\n",
            "\n",
            "           1     0.8551    0.2267    0.3584    109823\n",
            "           0     0.5167    0.9556    0.6707     95002\n",
            "\n",
            "    accuracy                         0.5648    204825\n",
            "   macro avg     0.6859    0.5912    0.5146    204825\n",
            "weighted avg     0.6981    0.5648    0.5033    204825\n",
            "\n"
          ]
        },
        {
          "data": {
            "image/png": "[encoded data removed]",
            "text/plain": [
              "<Figure size 432x288 with 2 Axes>"
            ]
          },
          "metadata": {
            "needs_background": "light"
          },
          "output_type": "display_data"
        }
      ],
      "source": [
        "evaluate(best_model, test_iter, threshold=0.4)"
      ]
    },
    {
      "cell_type": "code",
      "execution_count": null,
      "metadata": {
        "colab": {
          "base_uri": "https://localhost:8080/",
          "height": 538
        },
        "id": "8fCuuR-G4kKA",
        "outputId": "37e1ebf9-b55c-466e-f7a9-6cf810246a57"
      },
      "outputs": [
        {
          "name": "stdout",
          "output_type": "stream",
          "text": [
            "Classification Report:\n",
            "              precision    recall  f1-score   support\n",
            "\n",
            "           1     0.6476    0.7236    0.6835     45000\n",
            "           0     0.7741    0.7064    0.7387     60344\n",
            "\n",
            "    accuracy                         0.7138    105344\n",
            "   macro avg     0.7109    0.7150    0.7111    105344\n",
            "weighted avg     0.7201    0.7138    0.7151    105344\n",
            "\n"
          ]
        },
        {
          "data": {
            "image/png": "[encoded data removed]",
            "text/plain": [
              "<Figure size 432x288 with 2 Axes>"
            ]
          },
          "metadata": {
            "needs_background": "light"
          },
          "output_type": "display_data"
        }
      ],
      "source": [
        "evaluate(model, test_iter, threshold=0.3)"
      ]
    },
    {
      "cell_type": "code",
      "execution_count": 11,
      "metadata": {
        "colab": {
          "base_uri": "https://localhost:8080/",
          "height": 538
        },
        "id": "yjj-IGtX4lgK",
        "outputId": "df2b9652-2ed7-4234-d911-92c237731b74"
      },
      "outputs": [
        {
          "name": "stdout",
          "output_type": "stream",
          "text": [
            "Classification Report:\n",
            "              precision    recall  f1-score   support\n",
            "\n",
            "           1     0.7404    0.5062    0.6013    109823\n",
            "           0     0.5820    0.7949    0.6720     95002\n",
            "\n",
            "    accuracy                         0.6401    204825\n",
            "   macro avg     0.6612    0.6505    0.6366    204825\n",
            "weighted avg     0.6669    0.6401    0.6341    204825\n",
            "\n"
          ]
        },
        {
          "data": {
            "image/png": "[encoded data removed]",
            "text/plain": [
              "<Figure size 432x288 with 2 Axes>"
            ]
          },
          "metadata": {
            "needs_background": "light"
          },
          "output_type": "display_data"
        }
      ],
      "source": [
        "evaluate(best_model, test_iter, threshold=0.2)"
      ]
    },
    {
      "cell_type": "code",
      "execution_count": 12,
      "metadata": {
        "colab": {
          "base_uri": "https://localhost:8080/",
          "height": 538
        },
        "id": "VnpiLPef4mv3",
        "outputId": "e46271f8-6cc9-4351-a892-0e6b256e1392"
      },
      "outputs": [
        {
          "name": "stdout",
          "output_type": "stream",
          "text": [
            "Classification Report:\n",
            "              precision    recall  f1-score   support\n",
            "\n",
            "           1     0.6888    0.7644    0.7246    109823\n",
            "           0     0.6881    0.6008    0.6415     95002\n",
            "\n",
            "    accuracy                         0.6885    204825\n",
            "   macro avg     0.6884    0.6826    0.6831    204825\n",
            "weighted avg     0.6885    0.6885    0.6861    204825\n",
            "\n"
          ]
        },
        {
          "data": {
            "image/png": "[encoded data removed]",
            "text/plain": [
              "<Figure size 432x288 with 2 Axes>"
            ]
          },
          "metadata": {
            "needs_background": "light"
          },
          "output_type": "display_data"
        }
      ],
      "source": [
        "evaluate(best_model, test_iter, threshold=0.1)"
      ]
    },
    {
      "cell_type": "code",
      "execution_count": null,
      "metadata": {
        "colab": {
          "base_uri": "https://localhost:8080/"
        },
        "id": "ZJf67GP0Tw1U",
        "outputId": "62a682cd-21ac-4e6a-fcc7-f68a9db46e40"
      },
      "outputs": [
        {
          "name": "stdout",
          "output_type": "stream",
          "text": [
            "tensor([[  2,  58,   8,  46,   3],\n",
            "        [  2,  92,  23,  11,   3],\n",
            "        [  2,  20,  63,   4,   3],\n",
            "        [  2,  26,  50,  24,   3],\n",
            "        [  2, 246,   6,  54,   3],\n",
            "        [  2,  35,  44,  34,   3],\n",
            "        [  2,  17,   7,   5,   3],\n",
            "        [  2,  78, 179,  19,   3],\n",
            "        [  2,  89,  72,  58,   3],\n",
            "        [  2,  36,  83,   9,   3],\n",
            "        [  2, 143,  18,  55,   3],\n",
            "        [  2,  26,  82,   6,   3],\n",
            "        [  2,  45,  30,   6,   3],\n",
            "        [  2,  18,  10,  16,   3],\n",
            "        [  2,  45,  30,   6,   3],\n",
            "        [  2,   9, 116,  35,   3],\n",
            "        [  2,  21, 101,  88,   3],\n",
            "        [  2,  59, 151,  20,   3],\n",
            "        [  2,   6,   7,  20,   3],\n",
            "        [  2,  26, 118,  12,   3],\n",
            "        [  2,  85, 120,  68,   3],\n",
            "        [  2,  18, 347,  46,   3],\n",
            "        [  2,  33,  36,  19,   3],\n",
            "        [  2,  17,  10, 146,   3],\n",
            "        [  2,  52,  49,  38,   3],\n",
            "        [  2,  30,  27,   9,   3],\n",
            "        [  2,  53,  62,  38,   3],\n",
            "        [  2,  89, 390,   6,   3],\n",
            "        [  2,  50,  13,  20,   3],\n",
            "        [  2,  15,  49,   4,   3],\n",
            "        [  2,  36, 137,   7,   3],\n",
            "        [  2,  61,   6,  19,   3]])\n",
            "tensor([5, 5, 5, 5, 5, 5, 5, 5, 5, 5, 5, 5, 5, 5, 5, 5, 5, 5, 5, 5, 5, 5, 5, 5,\n",
            "        5, 5, 5, 5, 5, 5, 5, 5])\n"
          ]
        }
      ],
      "source": [
        "i = 0\n",
        "for ((name, name_len), labels), _ in test_iter: \n",
        "  if(i > 98):\n",
        "    print(name)\n",
        "    print(name_len)\n",
        "  i+=1\n",
        "  if(i == 100):\n",
        "    break"
      ]
    },
    {
      "cell_type": "code",
      "execution_count": null,
      "metadata": {
        "colab": {
          "base_uri": "https://localhost:8080/"
        },
        "id": "IMjTcwTMsxJK",
        "outputId": "721a4f79-aac2-4cca-9213-6d0f0215574c"
      },
      "outputs": [
        {
          "name": "stdout",
          "output_type": "stream",
          "text": [
            "<s>\n",
            "ත්\n",
            "ගේ\n",
            "ත\n",
            "නි\n",
            "</s>\n"
          ]
        }
      ],
      "source": [
        "for i in [ 2, 19,  5, 28, 20,  3]:\n",
        "  print(text_field.vocab.itos[i])\n"
      ]
    },
    {
      "cell_type": "code",
      "execution_count": 18,
      "metadata": {
        "colab": {
          "base_uri": "https://localhost:8080/"
        },
        "id": "i-HPE_HB-2AA",
        "outputId": "98e5036a-36a3-4ec3-c7aa-1eb27cc13975"
      },
      "outputs": [
        {
          "name": "stdout",
          "output_type": "stream",
          "text": [
            "tensor([[ 2, 11,  6, 12,  0,  3]])\n",
            "tensor([4])\n",
            "tensor([0.9573])\n",
            "tensor([1], dtype=torch.int32)\n"
          ]
        }
      ],
      "source": [
        "best_model.eval()\n",
        "threshold = 0.4\n",
        "name = 'නමල්'\n",
        "name, name_len = text_field.numericalize((name, [len(name)]))\n",
        "with torch.no_grad():         \n",
        "    name = torch.cat((torch.tensor([[2]]), name.reshape((1,-1)), torch.tensor([[3]])), 1).to(device)\n",
        "    name_len = name_len.to('cpu')\n",
        "    print(name)\n",
        "    print(name_len)  \n",
        "    # print(name_len.shape)\n",
        "    # print(type(name_len))\n",
        "    output = best_model(name, name_len)\n",
        "    print(output)\n",
        "    output = (output > threshold).int()\n",
        "    print(output)"
      ]
    },
    {
      "cell_type": "code",
      "execution_count": 13,
      "metadata": {},
      "outputs": [],
      "source": [
        "def get_accuracy(error, original):\n",
        "    best_model.eval()\n",
        "    original, original_len = text_field.numericalize((original, [len(original)]))\n",
        "    error, error_len = text_field.numericalize((error, [len(error)]))\n",
        "    with torch.no_grad():  \n",
        "        original = torch.cat((torch.tensor([[2]]), original.reshape((1,-1)), torch.tensor([[3]])), 1).to(device)\n",
        "        error = torch.cat((torch.tensor([[2]]), error.reshape((1,-1)), torch.tensor([[3]])), 1).to(device)\n",
        "        original_len = original_len.to('cpu')\n",
        "        error_len = error_len.to('cpu')\n",
        "        original_output = best_model(original, original_len)\n",
        "        error_output = best_model(error, error_len)\n",
        "        return  error_output.item(), original_output.item()"
      ]
    },
    {
      "cell_type": "code",
      "execution_count": 14,
      "metadata": {
        "id": "hooa70RP-129"
      },
      "outputs": [],
      "source": [
        "from os.path import isfile, join, join\n",
        "from os import listdir\n",
        "import json\n",
        "\n",
        "path = 'D:\\Final Year Project\\Codes\\FYP-Omega\\Data\\Error_Data\\ocr_error_data\\OCR errors testing'\n",
        "files = [f for f in listdir(path) if isfile(join(path, f))]\n",
        "\n",
        "raw_names_ocr = []\n",
        "for file in files:\n",
        "  raw_names_ocr +=  open(join(path, file), encoding='utf-8').readlines()[1:]\n",
        "raw_names_ocr = ''.join(raw_names_ocr)\n",
        "\n",
        "normalized_raw_names_ocr = normalize('NFC', raw_names_ocr.strip())\n",
        "normalized_name_list_ocr = normalized_raw_names_ocr.split('\\n')\n",
        "\n",
        "difference = 0\n",
        "possitive_differences = 0\n",
        "results = []\n",
        "for i, line in enumerate(normalized_name_list_ocr):\n",
        "    original, error_malith, error_abhaya = line.split(',')\n",
        "    original, error_malith, error_abhaya = normalize('NFC', original), normalize('NFC', error_malith), normalize('NFC', error_abhaya)\n",
        "    \n",
        "    if(original != error_malith):\n",
        "        try:\n",
        "            error_name_accuracy, original_name_accuracy = get_accuracy(error_malith, original)\n",
        "            norm_difference = (original_name_accuracy - error_name_accuracy)/original_name_accuracy\n",
        "            difference += norm_difference\n",
        "            if norm_difference>0:\n",
        "                possitive_differences+=1\n",
        "            results.append({\"original_name\": original, \"error_name\": error_malith, \"error_name_accuracy\":error_name_accuracy, \"original_name_accuracy\": original_name_accuracy, \"normalized_difference\": norm_difference})\n",
        "        except:\n",
        "            pass\n",
        "    if(original != error_abhaya):\n",
        "        try:\n",
        "            error_name_accuracy, original_name_accuracy = get_accuracy(error_abhaya, original)\n",
        "            norm_difference = (original_name_accuracy - error_name_accuracy)/original_name_accuracy\n",
        "            difference += norm_difference\n",
        "            if norm_difference>0:\n",
        "                possitive_differences+=1\n",
        "            results.append({\"original_name\": original, \"error_name\": error_abhaya, \"error_name_accuracy\":error_name_accuracy, \"original_name_accuracy\": original_name_accuracy, \"normalized_difference\": norm_difference})\n",
        "        except:\n",
        "            pass\n",
        "\n",
        "with open(\"evaluation_lstm_cls_language_model_ocr.json\", \"w\", encoding='utf-8') as outfile:\n",
        "    json.dump({\"final_socre\": difference/len(results), \"positives\": possitive_differences/len(results), \"results\": results}, outfile, ensure_ascii=False)"
      ]
    },
    {
      "cell_type": "code",
      "execution_count": null,
      "metadata": {
        "id": "lMaTZq9EvRKk"
      },
      "outputs": [],
      "source": []
    }
  ],
  "metadata": {
    "colab": {
      "collapsed_sections": [],
      "name": "LSTM Classifier- Non-Class - Mini-batch",
      "provenance": []
    },
    "kernelspec": {
      "display_name": "Python 3",
      "name": "python3"
    },
    "language_info": {
      "codemirror_mode": {
        "name": "ipython",
        "version": 3
      },
      "file_extension": ".py",
      "mimetype": "text/x-python",
      "name": "python",
      "nbconvert_exporter": "python",
      "pygments_lexer": "ipython3",
      "version": "3.7.10"
    }
  },
  "nbformat": 4,
  "nbformat_minor": 0
}
