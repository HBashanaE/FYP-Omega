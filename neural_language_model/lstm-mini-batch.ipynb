{
  "nbformat": 4,
  "nbformat_minor": 2,
  "metadata": {
    "colab": {
      "name": "Character-Level LSTM in PyTorch.ipynb",
      "version": "0.3.2",
      "provenance": [],
      "collapsed_sections": []
    },
    "kernelspec": {
      "name": "python3",
      "display_name": "Python 3.7.10 64-bit ('pyTorchEnv': conda)"
    },
    "accelerator": "GPU",
    "language_info": {
      "name": "python",
      "version": "3.7.10",
      "mimetype": "text/x-python",
      "codemirror_mode": {
        "name": "ipython",
        "version": 3
      },
      "pygments_lexer": "ipython3",
      "nbconvert_exporter": "python",
      "file_extension": ".py"
    },
    "interpreter": {
      "hash": "08465013b2823437a432090d36168a052ea896abae7de49d932d83247487b1e3"
    }
  },
  "cells": [
    {
      "cell_type": "code",
      "execution_count": 142,
      "source": [
        "import torch\r\n",
        "from torch import nn\r\n",
        "import numpy as np\r\n",
        "import torch.nn.functional as F"
      ],
      "outputs": [],
      "metadata": {
        "id": "YnXyWKauutUR",
        "colab_type": "code",
        "colab": {}
      }
    },
    {
      "cell_type": "code",
      "execution_count": 143,
      "source": [
        "# open text file and read in data as `text`\r\n",
        "\r\n",
        "text =  open(r'D:\\Final Year Project\\Codes\\Neural Network Model\\cleanedAllNames.txt', 'r', encoding='utf-8').read()\r\n",
        "names =  open(r'D:\\Final Year Project\\Codes\\Neural Network Model\\cleanedAllNames.txt', 'r', encoding='utf-8').readlines()"
      ],
      "outputs": [],
      "metadata": {
        "id": "S61YR9coJpQ4",
        "colab_type": "code",
        "colab": {}
      }
    },
    {
      "cell_type": "code",
      "execution_count": 144,
      "source": [
        "text[:100]"
      ],
      "outputs": [
        {
          "output_type": "execute_result",
          "data": {
            "text/plain": [
              "'අංකඩගේ\\nඅංකිලිපිටියේ\\nඅංකුඹුරගේ\\nඅංකුඹුරේ\\nඅංකෙලිපිටියේ\\nඅංකේලි\\nඅංකොක්කාවල\\nඅංගගේ\\nඅංගප්පන්\\nඅංගප්පුලි\\nඅංගප්'"
            ]
          },
          "metadata": {},
          "execution_count": 144
        }
      ],
      "metadata": {
        "id": "gmCXyNUXg1zV",
        "colab_type": "code",
        "outputId": "21149764-afb6-4e0d-9d6d-a4595d920685",
        "colab": {
          "base_uri": "https://localhost:8080/",
          "height": 33
        }
      }
    },
    {
      "cell_type": "code",
      "execution_count": 145,
      "source": [
        "names[:5]"
      ],
      "outputs": [
        {
          "output_type": "execute_result",
          "data": {
            "text/plain": [
              "['අංකඩගේ\\n', 'අංකිලිපිටියේ\\n', 'අංකුඹුරගේ\\n', 'අංකුඹුරේ\\n', 'අංකෙලිපිටියේ\\n']"
            ]
          },
          "metadata": {},
          "execution_count": 145
        }
      ],
      "metadata": {}
    },
    {
      "cell_type": "code",
      "execution_count": 146,
      "source": [
        "# encode the text and map each character to an integer and vice versa\r\n",
        "\r\n",
        "# we create two dictionaries:\r\n",
        "# 1. int2char, which maps integers to characters\r\n",
        "# 2. char2int, which maps characters to unique integers\r\n",
        "chars = list(set(text)) + ['<PAD>']\r\n",
        "int2char = dict(enumerate(chars))\r\n",
        "char2int = {ch: ii for ii, ch in int2char.items()}\r\n",
        "\r\n",
        "# encode the text\r\n",
        "encoded = np.array([char2int[ch] for ch in text])"
      ],
      "outputs": [],
      "metadata": {
        "id": "fw2qtSGmg55M",
        "colab_type": "code",
        "colab": {}
      }
    },
    {
      "cell_type": "code",
      "execution_count": 152,
      "source": [
        "encoded = np.ones((len(names),25), dtype='int32')*char2int['<PAD>']\r\n",
        "for i, name in enumerate(names):\r\n",
        "    for j, ch in enumerate(name):\r\n",
        "        encoded[i][j] = char2int[ch]\r\n",
        "np.random.shuffle(encoded)"
      ],
      "outputs": [],
      "metadata": {}
    },
    {
      "cell_type": "code",
      "execution_count": 153,
      "source": [
        "def one_hot_encode(arr, n_labels):\r\n",
        "    \r\n",
        "    # Initialize the the encoded array\r\n",
        "    one_hot = np.zeros((np.multiply(*arr.shape), n_labels), dtype=np.float32)\r\n",
        "    \r\n",
        "    # Fill the appropriate elements with ones\r\n",
        "    one_hot[np.arange(one_hot.shape[0]), arr.flatten()] = 1.\r\n",
        "    \r\n",
        "    # Finally reshape it to get back to the original array\r\n",
        "    one_hot = one_hot.reshape((*arr.shape, n_labels))\r\n",
        "    \r\n",
        "    return one_hot"
      ],
      "outputs": [],
      "metadata": {
        "id": "KXrBF6KshDFE",
        "colab_type": "code",
        "colab": {}
      }
    },
    {
      "cell_type": "code",
      "execution_count": 154,
      "source": [
        "# check that the function works as expected\r\n",
        "test_seq = np.array([[3, 5, 1]])\r\n",
        "one_hot = one_hot_encode(test_seq, 8)\r\n",
        "\r\n",
        "print(one_hot)"
      ],
      "outputs": [
        {
          "output_type": "stream",
          "name": "stdout",
          "text": [
            "[[[0. 0. 0. 1. 0. 0. 0. 0.]\n",
            "  [0. 0. 0. 0. 0. 1. 0. 0.]\n",
            "  [0. 1. 0. 0. 0. 0. 0. 0.]]]\n"
          ]
        }
      ],
      "metadata": {
        "id": "IGwK0XjthKIu",
        "colab_type": "code",
        "outputId": "8a27c3eb-b92e-4de7-acff-364b04a5f277",
        "colab": {
          "base_uri": "https://localhost:8080/",
          "height": 66
        }
      }
    },
    {
      "cell_type": "code",
      "execution_count": 155,
      "source": [
        "def get_batches(arr, batch_size, seq_length):\r\n",
        "    '''Create a generator that returns batches of size\r\n",
        "       batch_size x seq_length from arr.\r\n",
        "       \r\n",
        "       Arguments\r\n",
        "       ---------\r\n",
        "       arr: Array you want to make batches from\r\n",
        "       batch_size: Batch size, the number of sequences per batch\r\n",
        "       seq_length: Number of encoded chars in a sequence\r\n",
        "    '''\r\n",
        "    \r\n",
        "    batch_size_total = batch_size * seq_length\r\n",
        "    # total number of batches we can make\r\n",
        "    n_batches = len(arr)//batch_size_total\r\n",
        "    \r\n",
        "    # Keep only enough characters to make full batches\r\n",
        "    arr = arr[:n_batches * batch_size_total]\r\n",
        "    # Reshape into batch_size rows\r\n",
        "    arr = arr.reshape((batch_size, -1))\r\n",
        "    \r\n",
        "    # iterate through the array, one sequence at a time\r\n",
        "    for n in range(0, arr.shape[1], seq_length):\r\n",
        "        # The features\r\n",
        "        x = arr[:, n:n+seq_length]\r\n",
        "        # The targets, shifted by one\r\n",
        "        y = np.zeros_like(x)\r\n",
        "        try:\r\n",
        "            y[:, :-1], y[:, -1] = x[:, 1:], arr[:, n+seq_length]\r\n",
        "        except IndexError:\r\n",
        "            y[:, :-1], y[:, -1] = x[:, 1:], arr[:, 0]\r\n",
        "        yield x, y"
      ],
      "outputs": [],
      "metadata": {
        "id": "rV7IaSgXhMgq",
        "colab_type": "code",
        "colab": {}
      }
    },
    {
      "cell_type": "code",
      "execution_count": 156,
      "source": [
        "\r\n",
        "\r\n",
        "batches = get_batches(encoded, 8, 50)\r\n",
        "x, y = next(batches)\r\n"
      ],
      "outputs": [],
      "metadata": {
        "id": "8IMPwfg5hRFr",
        "colab_type": "code",
        "colab": {}
      }
    },
    {
      "cell_type": "code",
      "execution_count": 157,
      "source": [
        "x.shape"
      ],
      "outputs": [
        {
          "output_type": "execute_result",
          "data": {
            "text/plain": [
              "(8, 50)"
            ]
          },
          "metadata": {},
          "execution_count": 157
        }
      ],
      "metadata": {}
    },
    {
      "cell_type": "code",
      "execution_count": 158,
      "source": [
        "# printing out the first 10 items in a sequence\r\n",
        "print('x\\n', x[:10, :10])\r\n",
        "print('\\ny\\n', y[:10, :10])"
      ],
      "outputs": [
        {
          "output_type": "stream",
          "name": "stdout",
          "text": [
            "x\n",
            " [[34 56 38 12  5 38  0 65 65 65]\n",
            " [21 45 11 25 36 13 38  0 65 65]\n",
            " [44 18 46 25 41  0 65 65 65 65]\n",
            " [37 11  7 41 37 38 37 14  0 65]\n",
            " [59 11 53 38  5 46 13 38 25 14]\n",
            " [37 41 53 11  5 38  0 65 65 65]\n",
            " [61 37 38 59 11  5 37 38  0 65]\n",
            " [21 27 38 44 11 53 41  0 65 65]]\n",
            "\n",
            "y\n",
            " [[56 38 12  5 38  0 65 65 65 65]\n",
            " [45 11 25 36 13 38  0 65 65 65]\n",
            " [18 46 25 41  0 65 65 65 65 65]\n",
            " [11  7 41 37 38 37 14  0 65 65]\n",
            " [11 53 38  5 46 13 38 25 14  0]\n",
            " [41 53 11  5 38  0 65 65 65 65]\n",
            " [37 38 59 11  5 37 38  0 65 65]\n",
            " [27 38 44 11 53 41  0 65 65 65]]\n"
          ]
        }
      ],
      "metadata": {
        "id": "bp71QFNahUng",
        "colab_type": "code",
        "outputId": "3549c99b-a6de-4e6c-e5c2-5a9a1295e394",
        "colab": {
          "base_uri": "https://localhost:8080/",
          "height": 333
        }
      }
    },
    {
      "cell_type": "code",
      "execution_count": 159,
      "source": [
        "# check if GPU is available\r\n",
        "train_on_gpu = torch.cuda.is_available()\r\n",
        "if(train_on_gpu):\r\n",
        "    print('Training on GPU!')\r\n",
        "else: \r\n",
        "    print('No GPU available, training on CPU; consider making n_epochs very small.')"
      ],
      "outputs": [
        {
          "output_type": "stream",
          "name": "stdout",
          "text": [
            "Training on GPU!\n"
          ]
        }
      ],
      "metadata": {
        "id": "rTWPKjZehiS9",
        "colab_type": "code",
        "outputId": "e6aa82ec-f939-4c3f-ca6c-9569bc166c04",
        "colab": {
          "base_uri": "https://localhost:8080/",
          "height": 33
        }
      }
    },
    {
      "cell_type": "code",
      "execution_count": 160,
      "source": [
        "class CharRNN(nn.Module):\r\n",
        "    \r\n",
        "    def __init__(self, tokens, n_hidden=512, n_layers=3,\r\n",
        "                               drop_prob=0.3, lr=0.001):\r\n",
        "        super().__init__()\r\n",
        "        self.drop_prob = drop_prob\r\n",
        "        self.n_layers = n_layers\r\n",
        "        self.n_hidden = n_hidden\r\n",
        "        self.lr = lr\r\n",
        "        \r\n",
        "        # creating character dictionaries\r\n",
        "        self.chars = tokens\r\n",
        "        self.int2char = dict(enumerate(self.chars))\r\n",
        "        self.char2int = {ch: ii for ii, ch in self.int2char.items()}\r\n",
        "        \r\n",
        "        ## TODO: define the LSTM\r\n",
        "        self.lstm = nn.LSTM(len(self.chars), n_hidden, n_layers, \r\n",
        "                            dropout=drop_prob, batch_first=True)\r\n",
        "        \r\n",
        "        ## TODO: define a dropout layer\r\n",
        "        self.dropout = nn.Dropout(drop_prob)\r\n",
        "        \r\n",
        "        ## TODO: define the final, fully-connected output layer\r\n",
        "        self.fc = nn.Linear(n_hidden, len(self.chars))\r\n",
        "      \r\n",
        "    \r\n",
        "    def forward(self, x, hidden):\r\n",
        "        ''' Forward pass through the network. \r\n",
        "            These inputs are x, and the hidden/cell state `hidden`. '''\r\n",
        "                \r\n",
        "        ## TODO: Get the outputs and the new hidden state from the lstm\r\n",
        "        r_output, hidden = self.lstm(x, hidden)\r\n",
        "        \r\n",
        "        ## TODO: pass through a dropout layer\r\n",
        "        out = self.dropout(r_output)\r\n",
        "        \r\n",
        "        # Stack up LSTM outputs using view\r\n",
        "        # you may need to use contiguous to reshape the output\r\n",
        "        out = out.contiguous().view(-1, self.n_hidden)\r\n",
        "        \r\n",
        "        ## TODO: put x through the fully-connected layer\r\n",
        "        out = self.fc(out)\r\n",
        "        \r\n",
        "        # return the final output and the hidden state\r\n",
        "        return out, hidden\r\n",
        "    \r\n",
        "    \r\n",
        "    def init_hidden(self, batch_size):\r\n",
        "        ''' Initializes hidden state '''\r\n",
        "        # Create two new tensors with sizes n_layers x batch_size x n_hidden,\r\n",
        "        # initialized to zero, for hidden state and cell state of LSTM\r\n",
        "        weight = next(self.parameters()).data\r\n",
        "        \r\n",
        "        if (train_on_gpu):\r\n",
        "            hidden = (weight.new(self.n_layers, batch_size, self.n_hidden).zero_().cuda(),\r\n",
        "                  weight.new(self.n_layers, batch_size, self.n_hidden).zero_().cuda())\r\n",
        "        else:\r\n",
        "            hidden = (weight.new(self.n_layers, batch_size, self.n_hidden).zero_(),\r\n",
        "                      weight.new(self.n_layers, batch_size, self.n_hidden).zero_())\r\n",
        "        \r\n",
        "        return hidden"
      ],
      "outputs": [],
      "metadata": {
        "id": "EwhPA1QFhjpG",
        "colab_type": "code",
        "colab": {}
      }
    },
    {
      "cell_type": "code",
      "execution_count": 179,
      "source": [
        "import matplotlib.pyplot as plt\r\n",
        "import matplotlib.ticker as ticker\r\n",
        "\r\n",
        "def train(net, data, epochs=10, batch_size=10, seq_length=50, lr=0.001, clip=5, val_frac=0.1, print_every=10):\r\n",
        "    ''' Training a network \r\n",
        "    \r\n",
        "        Arguments\r\n",
        "        ---------\r\n",
        "        \r\n",
        "        net: CharRNN network\r\n",
        "        data: text data to train the network\r\n",
        "        epochs: Number of epochs to train\r\n",
        "        batch_size: Number of mini-sequences per mini-batch, aka batch size\r\n",
        "        seq_length: Number of character steps per mini-batch\r\n",
        "        lr: learning rate\r\n",
        "        clip: gradient clipping\r\n",
        "        val_frac: Fraction of data to hold out for validation\r\n",
        "        print_every: Number of steps for printing training and validation loss\r\n",
        "    \r\n",
        "    '''\r\n",
        "    net.train()\r\n",
        "    \r\n",
        "    opt = torch.optim.Adam(net.parameters(), lr=lr)\r\n",
        "    pad_index = char2int['<PAD>']\r\n",
        "    criterion = nn.CrossEntropyLoss(ignore_index=pad_index)\r\n",
        "    \r\n",
        "    # create training and validation data\r\n",
        "    val_idx = int(len(data)*(1-val_frac))\r\n",
        "    data, val_data = data[:val_idx], data[val_idx:]\r\n",
        "    \r\n",
        "    if(train_on_gpu):\r\n",
        "        net.cuda()\r\n",
        "    \r\n",
        "    counter = 0\r\n",
        "    n_chars = len(net.chars)\r\n",
        "    training_losses = []\r\n",
        "    validation_losses=[]\r\n",
        "    for e in range(epochs):\r\n",
        "        # initialize hidden state\r\n",
        "        h = net.init_hidden(batch_size)\r\n",
        "        \r\n",
        "        for x, y in get_batches(data, batch_size, seq_length):\r\n",
        "            counter += 1\r\n",
        "            \r\n",
        "            # One-hot encode our data and make them Torch tensors\r\n",
        "            x = one_hot_encode(x, n_chars)\r\n",
        "            inputs, targets = torch.from_numpy(x), torch.from_numpy(y)\r\n",
        "            \r\n",
        "            if(train_on_gpu):\r\n",
        "                inputs, targets = inputs.cuda(), targets.cuda()\r\n",
        "\r\n",
        "            # Creating new variables for the hidden state, otherwise\r\n",
        "            # we'd backprop through the entire training history\r\n",
        "            h = tuple([each.data for each in h])\r\n",
        "\r\n",
        "            # zero accumulated gradients\r\n",
        "            net.zero_grad()\r\n",
        "            \r\n",
        "            # get the output from the model\r\n",
        "            output, h = net(inputs, h)\r\n",
        "            \r\n",
        "            # calculate the loss and perform backprop\r\n",
        "            # print(output.shape, targets.view(batch_size*seq_length).long().shape)\r\n",
        "            loss = criterion(output, targets.view(batch_size*seq_length).long())\r\n",
        "            loss.backward()\r\n",
        "            # `clip_grad_norm` helps prevent the exploding gradient problem in RNNs / LSTMs.\r\n",
        "            nn.utils.clip_grad_norm_(net.parameters(), clip)\r\n",
        "            opt.step()\r\n",
        "\r\n",
        "            training_losses.append(loss.item())\r\n",
        "            \r\n",
        "            # loss stats\r\n",
        "            if counter % print_every == 0:\r\n",
        "                # Get validation loss\r\n",
        "                val_h = net.init_hidden(batch_size)\r\n",
        "                val_losses = []\r\n",
        "                net.eval()\r\n",
        "                for x, y in get_batches(val_data, batch_size, seq_length):\r\n",
        "                    # One-hot encode our data and make them Torch tensors\r\n",
        "                    x = one_hot_encode(x, n_chars)\r\n",
        "                    x, y = torch.from_numpy(x), torch.from_numpy(y)\r\n",
        "                    \r\n",
        "                    # Creating new variables for the hidden state, otherwise\r\n",
        "                    # we'd backprop through the entire training history\r\n",
        "                    val_h = tuple([each.data for each in val_h])\r\n",
        "                    \r\n",
        "                    inputs, targets = x, y\r\n",
        "                    if(train_on_gpu):\r\n",
        "                        inputs, targets = inputs.cuda(), targets.cuda()\r\n",
        "\r\n",
        "                    output, val_h = net(inputs, val_h)\r\n",
        "                    val_loss = criterion(output, targets.view(batch_size*seq_length).long())\r\n",
        "                \r\n",
        "                    val_losses.append(val_loss.item())\r\n",
        "                    validation_losses.append(val_loss.item())\r\n",
        "                \r\n",
        "                net.train() # reset to train mode after iterationg through validation data\r\n",
        "                \r\n",
        "                print(\"Epoch: {}/{}...\".format(e+1, epochs),\r\n",
        "                      \"Step: {}...\".format(counter),\r\n",
        "                      \"Loss: {:.4f}...\".format(loss.item()),\r\n",
        "                      \"Val Loss: {:.4f}\".format(np.mean(val_losses)))\r\n",
        "\r\n",
        "\r\n",
        "    plt.figure()\r\n",
        "    plt.plot(validation_losses)"
      ],
      "outputs": [],
      "metadata": {
        "id": "Ez_dk2FAhoOz",
        "colab_type": "code",
        "colab": {}
      }
    },
    {
      "cell_type": "code",
      "execution_count": 180,
      "source": [
        "# define and print the net\r\n",
        "n_hidden=8\r\n",
        "n_layers=4\r\n",
        "\r\n",
        "net = CharRNN(chars, n_hidden, n_layers)\r\n",
        "print(net)"
      ],
      "outputs": [
        {
          "output_type": "stream",
          "name": "stdout",
          "text": [
            "CharRNN(\n",
            "  (lstm): LSTM(66, 8, num_layers=4, batch_first=True, dropout=0.3)\n",
            "  (dropout): Dropout(p=0.3, inplace=False)\n",
            "  (fc): Linear(in_features=8, out_features=66, bias=True)\n",
            ")\n"
          ]
        }
      ],
      "metadata": {
        "id": "ghiZnrTuhw3w",
        "colab_type": "code",
        "outputId": "d05ef2cd-6adc-4531-b041-fc810cbffa95",
        "colab": {
          "base_uri": "https://localhost:8080/",
          "height": 100
        }
      }
    },
    {
      "cell_type": "code",
      "execution_count": 181,
      "source": [
        "batch_size = 8\r\n",
        "seq_length = 25\r\n",
        "n_epochs = 2 # start smaller if you are just testing initial behavior\r\n",
        "\r\n",
        "# train the model\r\n",
        "train(net, encoded, epochs=n_epochs, batch_size=batch_size, seq_length=seq_length, lr=0.030, print_every=10)\r\n",
        "\r\n"
      ],
      "outputs": [
        {
          "output_type": "stream",
          "name": "stdout",
          "text": [
            "Epoch: 1/2... Step: 10... Loss: 3.4744... Val Loss: 3.4186\n",
            "Epoch: 1/2... Step: 20... Loss: 3.5156... Val Loss: 3.3647\n",
            "Epoch: 1/2... Step: 30... Loss: 3.3267... Val Loss: 3.3110\n",
            "Epoch: 1/2... Step: 40... Loss: 3.3233... Val Loss: 3.3142\n",
            "Epoch: 1/2... Step: 50... Loss: 3.2710... Val Loss: 3.2942\n",
            "Epoch: 1/2... Step: 60... Loss: 3.1872... Val Loss: 3.2863\n",
            "Epoch: 1/2... Step: 70... Loss: 3.3480... Val Loss: 3.2937\n",
            "Epoch: 1/2... Step: 80... Loss: 3.3214... Val Loss: 3.2871\n",
            "Epoch: 1/2... Step: 90... Loss: 3.2900... Val Loss: 3.2819\n",
            "Epoch: 1/2... Step: 100... Loss: 3.3878... Val Loss: 3.2776\n",
            "Epoch: 1/2... Step: 110... Loss: 3.2311... Val Loss: 3.2824\n",
            "Epoch: 1/2... Step: 120... Loss: 3.2713... Val Loss: 3.2883\n",
            "Epoch: 1/2... Step: 130... Loss: 3.3872... Val Loss: 3.2884\n",
            "Epoch: 1/2... Step: 140... Loss: 3.2076... Val Loss: 3.2867\n",
            "Epoch: 1/2... Step: 150... Loss: 3.2563... Val Loss: 3.2792\n",
            "Epoch: 1/2... Step: 160... Loss: 3.3451... Val Loss: 3.2815\n",
            "Epoch: 1/2... Step: 170... Loss: 3.3570... Val Loss: 3.2879\n",
            "Epoch: 1/2... Step: 180... Loss: 3.2301... Val Loss: 3.2802\n",
            "Epoch: 1/2... Step: 190... Loss: 3.3283... Val Loss: 3.2779\n",
            "Epoch: 1/2... Step: 200... Loss: 3.2765... Val Loss: 3.2744\n",
            "Epoch: 1/2... Step: 210... Loss: 3.3579... Val Loss: 3.2772\n",
            "Epoch: 1/2... Step: 220... Loss: 3.3762... Val Loss: 3.2773\n",
            "Epoch: 1/2... Step: 230... Loss: 3.4743... Val Loss: 3.2814\n",
            "Epoch: 1/2... Step: 240... Loss: 3.2347... Val Loss: 3.2817\n",
            "Epoch: 1/2... Step: 250... Loss: 3.2081... Val Loss: 3.2777\n",
            "Epoch: 1/2... Step: 260... Loss: 3.1730... Val Loss: 3.2775\n",
            "Epoch: 1/2... Step: 270... Loss: 3.2555... Val Loss: 3.2746\n",
            "Epoch: 1/2... Step: 280... Loss: 3.2454... Val Loss: 3.2751\n",
            "Epoch: 1/2... Step: 290... Loss: 3.3163... Val Loss: 3.2723\n",
            "Epoch: 1/2... Step: 300... Loss: 3.2024... Val Loss: 3.2761\n",
            "Epoch: 1/2... Step: 310... Loss: 3.0852... Val Loss: 3.2779\n",
            "Epoch: 1/2... Step: 320... Loss: 3.3146... Val Loss: 3.2775\n",
            "Epoch: 1/2... Step: 330... Loss: 3.4020... Val Loss: 3.2788\n",
            "Epoch: 1/2... Step: 340... Loss: 3.3640... Val Loss: 3.2781\n",
            "Epoch: 1/2... Step: 350... Loss: 3.2810... Val Loss: 3.2745\n",
            "Epoch: 1/2... Step: 360... Loss: 3.1258... Val Loss: 3.2746\n",
            "Epoch: 1/2... Step: 370... Loss: 3.2314... Val Loss: 3.2756\n",
            "Epoch: 1/2... Step: 380... Loss: 3.1915... Val Loss: 3.2752\n",
            "Epoch: 1/2... Step: 390... Loss: 3.3039... Val Loss: 3.2745\n",
            "Epoch: 1/2... Step: 400... Loss: 3.1847... Val Loss: 3.2741\n",
            "Epoch: 1/2... Step: 410... Loss: 3.2613... Val Loss: 3.2748\n",
            "Epoch: 1/2... Step: 420... Loss: 3.1909... Val Loss: 3.2760\n",
            "Epoch: 1/2... Step: 430... Loss: 3.1518... Val Loss: 3.2726\n",
            "Epoch: 1/2... Step: 440... Loss: 3.1813... Val Loss: 3.2721\n",
            "Epoch: 1/2... Step: 450... Loss: 3.3759... Val Loss: 3.2716\n",
            "Epoch: 1/2... Step: 460... Loss: 3.3626... Val Loss: 3.2703\n",
            "Epoch: 1/2... Step: 470... Loss: 3.4433... Val Loss: 3.2712\n",
            "Epoch: 1/2... Step: 480... Loss: 3.3451... Val Loss: 3.2730\n",
            "Epoch: 1/2... Step: 490... Loss: 3.2580... Val Loss: 3.2731\n",
            "Epoch: 1/2... Step: 500... Loss: 3.1648... Val Loss: 3.2726\n",
            "Epoch: 1/2... Step: 510... Loss: 3.2571... Val Loss: 3.2708\n",
            "Epoch: 1/2... Step: 520... Loss: 3.3134... Val Loss: 3.2718\n",
            "Epoch: 1/2... Step: 530... Loss: 3.1922... Val Loss: 3.2699\n",
            "Epoch: 1/2... Step: 540... Loss: 3.2853... Val Loss: 3.2693\n",
            "Epoch: 1/2... Step: 550... Loss: 3.2197... Val Loss: 3.2705\n",
            "Epoch: 1/2... Step: 560... Loss: 3.3087... Val Loss: 3.2724\n",
            "Epoch: 1/2... Step: 570... Loss: 3.2052... Val Loss: 3.2713\n",
            "Epoch: 1/2... Step: 580... Loss: 3.3181... Val Loss: 3.2696\n",
            "Epoch: 1/2... Step: 590... Loss: 3.3553... Val Loss: 3.2695\n",
            "Epoch: 1/2... Step: 600... Loss: 3.2051... Val Loss: 3.2681\n",
            "Epoch: 1/2... Step: 610... Loss: 3.2641... Val Loss: 3.2681\n",
            "Epoch: 1/2... Step: 620... Loss: 3.3093... Val Loss: 3.2682\n",
            "Epoch: 1/2... Step: 630... Loss: 3.1014... Val Loss: 3.2702\n",
            "Epoch: 1/2... Step: 640... Loss: 3.2154... Val Loss: 3.2706\n",
            "Epoch: 1/2... Step: 650... Loss: 3.2269... Val Loss: 3.2700\n",
            "Epoch: 1/2... Step: 660... Loss: 3.2524... Val Loss: 3.2694\n",
            "Epoch: 1/2... Step: 670... Loss: 3.2164... Val Loss: 3.2681\n",
            "Epoch: 1/2... Step: 680... Loss: 3.3722... Val Loss: 3.2686\n",
            "Epoch: 1/2... Step: 690... Loss: 3.4259... Val Loss: 3.2680\n",
            "Epoch: 1/2... Step: 700... Loss: 3.0904... Val Loss: 3.2661\n",
            "Epoch: 1/2... Step: 710... Loss: 3.4941... Val Loss: 3.2657\n",
            "Epoch: 1/2... Step: 720... Loss: 3.2920... Val Loss: 3.2656\n",
            "Epoch: 1/2... Step: 730... Loss: 3.1365... Val Loss: 3.2638\n",
            "Epoch: 1/2... Step: 740... Loss: 3.4218... Val Loss: 3.2531\n",
            "Epoch: 1/2... Step: 750... Loss: 3.2350... Val Loss: 3.2317\n",
            "Epoch: 1/2... Step: 760... Loss: 3.1751... Val Loss: 3.2010\n",
            "Epoch: 1/2... Step: 770... Loss: 3.2360... Val Loss: 3.2027\n",
            "Epoch: 1/2... Step: 780... Loss: 3.2288... Val Loss: 3.1483\n",
            "Epoch: 1/2... Step: 790... Loss: 3.0833... Val Loss: 3.1294\n",
            "Epoch: 1/2... Step: 800... Loss: 3.2949... Val Loss: 3.1075\n",
            "Epoch: 1/2... Step: 810... Loss: 3.0208... Val Loss: 3.0834\n",
            "Epoch: 1/2... Step: 820... Loss: 3.1099... Val Loss: 3.0661\n",
            "Epoch: 1/2... Step: 830... Loss: 3.0862... Val Loss: 3.0416\n",
            "Epoch: 1/2... Step: 840... Loss: 2.8759... Val Loss: 3.0309\n",
            "Epoch: 1/2... Step: 850... Loss: 2.8306... Val Loss: 3.0348\n",
            "Epoch: 1/2... Step: 860... Loss: 3.0531... Val Loss: 3.0348\n",
            "Epoch: 1/2... Step: 870... Loss: 2.9958... Val Loss: 3.0097\n",
            "Epoch: 2/2... Step: 880... Loss: 3.2468... Val Loss: 3.0115\n",
            "Epoch: 2/2... Step: 890... Loss: 2.8908... Val Loss: 3.0128\n",
            "Epoch: 2/2... Step: 900... Loss: 3.2414... Val Loss: 3.0079\n",
            "Epoch: 2/2... Step: 910... Loss: 3.3017... Val Loss: 2.9924\n",
            "Epoch: 2/2... Step: 920... Loss: 2.9607... Val Loss: 2.9941\n",
            "Epoch: 2/2... Step: 930... Loss: 3.0950... Val Loss: 2.9901\n",
            "Epoch: 2/2... Step: 940... Loss: 2.8915... Val Loss: 2.9876\n",
            "Epoch: 2/2... Step: 950... Loss: 3.3476... Val Loss: 2.9855\n",
            "Epoch: 2/2... Step: 960... Loss: 2.9592... Val Loss: 2.9831\n",
            "Epoch: 2/2... Step: 970... Loss: 3.0394... Val Loss: 2.9722\n",
            "Epoch: 2/2... Step: 980... Loss: 3.0325... Val Loss: 2.9654\n",
            "Epoch: 2/2... Step: 990... Loss: 3.2178... Val Loss: 2.9690\n",
            "Epoch: 2/2... Step: 1000... Loss: 3.0396... Val Loss: 2.9648\n",
            "Epoch: 2/2... Step: 1010... Loss: 2.9672... Val Loss: 2.9609\n",
            "Epoch: 2/2... Step: 1020... Loss: 3.1355... Val Loss: 2.9477\n",
            "Epoch: 2/2... Step: 1030... Loss: 2.9543... Val Loss: 2.9440\n",
            "Epoch: 2/2... Step: 1040... Loss: 3.0566... Val Loss: 2.9480\n",
            "Epoch: 2/2... Step: 1050... Loss: 3.0627... Val Loss: 2.9344\n",
            "Epoch: 2/2... Step: 1060... Loss: 2.9461... Val Loss: 2.9287\n",
            "Epoch: 2/2... Step: 1070... Loss: 2.9564... Val Loss: 2.9202\n",
            "Epoch: 2/2... Step: 1080... Loss: 2.9583... Val Loss: 2.9205\n",
            "Epoch: 2/2... Step: 1090... Loss: 2.8967... Val Loss: 2.9059\n",
            "Epoch: 2/2... Step: 1100... Loss: 2.9459... Val Loss: 2.8854\n",
            "Epoch: 2/2... Step: 1110... Loss: 2.9071... Val Loss: 2.8996\n",
            "Epoch: 2/2... Step: 1120... Loss: 2.7902... Val Loss: 2.8800\n",
            "Epoch: 2/2... Step: 1130... Loss: 2.8986... Val Loss: 2.8829\n",
            "Epoch: 2/2... Step: 1140... Loss: 2.8904... Val Loss: 2.8794\n",
            "Epoch: 2/2... Step: 1150... Loss: 2.7774... Val Loss: 2.8606\n",
            "Epoch: 2/2... Step: 1160... Loss: 3.3454... Val Loss: 2.8549\n",
            "Epoch: 2/2... Step: 1170... Loss: 2.9806... Val Loss: 2.8820\n",
            "Epoch: 2/2... Step: 1180... Loss: 2.7418... Val Loss: 2.8526\n",
            "Epoch: 2/2... Step: 1190... Loss: 2.9845... Val Loss: 2.8537\n",
            "Epoch: 2/2... Step: 1200... Loss: 2.8060... Val Loss: 2.8419\n",
            "Epoch: 2/2... Step: 1210... Loss: 2.8288... Val Loss: 2.8497\n",
            "Epoch: 2/2... Step: 1220... Loss: 2.6554... Val Loss: 2.8385\n",
            "Epoch: 2/2... Step: 1230... Loss: 2.9107... Val Loss: 2.8584\n",
            "Epoch: 2/2... Step: 1240... Loss: 2.8564... Val Loss: 2.8537\n",
            "Epoch: 2/2... Step: 1250... Loss: 3.0744... Val Loss: 2.8442\n",
            "Epoch: 2/2... Step: 1260... Loss: 2.8703... Val Loss: 2.8073\n",
            "Epoch: 2/2... Step: 1270... Loss: 2.9898... Val Loss: 2.7976\n",
            "Epoch: 2/2... Step: 1280... Loss: 2.8210... Val Loss: 2.8840\n",
            "Epoch: 2/2... Step: 1290... Loss: 2.8611... Val Loss: 2.8114\n",
            "Epoch: 2/2... Step: 1300... Loss: 2.8887... Val Loss: 2.8333\n",
            "Epoch: 2/2... Step: 1310... Loss: 2.7640... Val Loss: 2.8220\n",
            "Epoch: 2/2... Step: 1320... Loss: 2.8423... Val Loss: 2.8008\n",
            "Epoch: 2/2... Step: 1330... Loss: 2.8760... Val Loss: 2.8063\n",
            "Epoch: 2/2... Step: 1340... Loss: 2.7485... Val Loss: 2.7957\n",
            "Epoch: 2/2... Step: 1350... Loss: 2.7070... Val Loss: 2.7907\n",
            "Epoch: 2/2... Step: 1360... Loss: 3.1548... Val Loss: 2.8019\n",
            "Epoch: 2/2... Step: 1370... Loss: 2.9230... Val Loss: 2.7929\n",
            "Epoch: 2/2... Step: 1380... Loss: 2.8218... Val Loss: 2.8054\n",
            "Epoch: 2/2... Step: 1390... Loss: 2.8819... Val Loss: 2.8113\n",
            "Epoch: 2/2... Step: 1400... Loss: 2.5701... Val Loss: 2.7837\n",
            "Epoch: 2/2... Step: 1410... Loss: 2.9136... Val Loss: 2.7937\n",
            "Epoch: 2/2... Step: 1420... Loss: 2.8272... Val Loss: 2.8062\n",
            "Epoch: 2/2... Step: 1430... Loss: 2.7735... Val Loss: 2.7822\n",
            "Epoch: 2/2... Step: 1440... Loss: 2.7172... Val Loss: 2.7960\n",
            "Epoch: 2/2... Step: 1450... Loss: 2.7330... Val Loss: 2.7867\n",
            "Epoch: 2/2... Step: 1460... Loss: 2.6730... Val Loss: 2.7895\n",
            "Epoch: 2/2... Step: 1470... Loss: 2.5180... Val Loss: 2.7979\n",
            "Epoch: 2/2... Step: 1480... Loss: 2.8800... Val Loss: 2.7750\n",
            "Epoch: 2/2... Step: 1490... Loss: 2.7886... Val Loss: 2.7761\n",
            "Epoch: 2/2... Step: 1500... Loss: 2.7776... Val Loss: 2.7787\n",
            "Epoch: 2/2... Step: 1510... Loss: 3.0433... Val Loss: 2.8060\n",
            "Epoch: 2/2... Step: 1520... Loss: 2.7162... Val Loss: 2.7897\n",
            "Epoch: 2/2... Step: 1530... Loss: 3.0297... Val Loss: 2.8011\n",
            "Epoch: 2/2... Step: 1540... Loss: 2.6726... Val Loss: 2.7866\n",
            "Epoch: 2/2... Step: 1550... Loss: 2.9261... Val Loss: 2.7784\n",
            "Epoch: 2/2... Step: 1560... Loss: 2.9247... Val Loss: 2.7823\n",
            "Epoch: 2/2... Step: 1570... Loss: 3.1118... Val Loss: 2.7844\n",
            "Epoch: 2/2... Step: 1580... Loss: 2.7426... Val Loss: 2.7948\n",
            "Epoch: 2/2... Step: 1590... Loss: 2.8848... Val Loss: 2.7833\n",
            "Epoch: 2/2... Step: 1600... Loss: 3.0544... Val Loss: 2.7886\n",
            "Epoch: 2/2... Step: 1610... Loss: 2.8749... Val Loss: 2.7850\n",
            "Epoch: 2/2... Step: 1620... Loss: 2.8530... Val Loss: 2.7846\n",
            "Epoch: 2/2... Step: 1630... Loss: 2.9790... Val Loss: 2.7871\n",
            "Epoch: 2/2... Step: 1640... Loss: 2.9503... Val Loss: 2.7931\n",
            "Epoch: 2/2... Step: 1650... Loss: 2.7370... Val Loss: 2.7825\n",
            "Epoch: 2/2... Step: 1660... Loss: 2.9850... Val Loss: 2.7811\n",
            "Epoch: 2/2... Step: 1670... Loss: 2.9440... Val Loss: 2.7796\n",
            "Epoch: 2/2... Step: 1680... Loss: 2.8082... Val Loss: 2.7705\n",
            "Epoch: 2/2... Step: 1690... Loss: 2.7471... Val Loss: 2.7997\n",
            "Epoch: 2/2... Step: 1700... Loss: 2.6642... Val Loss: 2.7964\n",
            "Epoch: 2/2... Step: 1710... Loss: 2.7670... Val Loss: 2.7861\n",
            "Epoch: 2/2... Step: 1720... Loss: 2.9767... Val Loss: 2.7844\n",
            "Epoch: 2/2... Step: 1730... Loss: 2.8636... Val Loss: 2.7845\n",
            "Epoch: 2/2... Step: 1740... Loss: 2.8105... Val Loss: 2.8071\n",
            "Epoch: 2/2... Step: 1750... Loss: 2.8005... Val Loss: 2.7805\n"
          ]
        },
        {
          "output_type": "display_data",
          "data": {
            "image/png": "[encoded data removed]",
            "text/plain": [
              "<Figure size 432x288 with 1 Axes>"
            ]
          },
          "metadata": {
            "needs_background": "light"
          }
        }
      ],
      "metadata": {
        "id": "PQss9edSh2dt",
        "colab_type": "code",
        "outputId": "3efad8c9-3edc-4373-c6b4-347973ce6b53",
        "colab": {
          "base_uri": "https://localhost:8080/",
          "height": 1111
        }
      }
    },
    {
      "cell_type": "code",
      "execution_count": 182,
      "source": [
        "# # change the name, for saving multiple files\r\n",
        "# model_name = 'rnn_20_epoch.net'\r\n",
        "\r\n",
        "# checkpoint = {'n_hidden': net.n_hidden,\r\n",
        "#               'n_layers': net.n_layers,\r\n",
        "#               'state_dict': net.state_dict(),\r\n",
        "#               'tokens': net.chars}\r\n",
        "\r\n",
        "# with open(model_name, 'wb') as f:\r\n",
        "#     torch.save(checkpoint, f)"
      ],
      "outputs": [],
      "metadata": {
        "id": "Sw-mBMrUiHK0",
        "colab_type": "code",
        "colab": {}
      }
    },
    {
      "cell_type": "code",
      "execution_count": 183,
      "source": [
        "def predict(net, char, h=None, top_k=None):\r\n",
        "        ''' Given a character, predict the next character.\r\n",
        "            Returns the predicted character and the hidden state.\r\n",
        "        '''\r\n",
        "        \r\n",
        "        # tensor inputs\r\n",
        "        x = np.array([[net.char2int[char]]])\r\n",
        "        x = one_hot_encode(x, len(net.chars))\r\n",
        "        inputs = torch.from_numpy(x)\r\n",
        "        \r\n",
        "        if(train_on_gpu):\r\n",
        "            inputs = inputs.cuda()\r\n",
        "        \r\n",
        "        # detach hidden state from history\r\n",
        "        h = tuple([each.data for each in h])\r\n",
        "        # get the output of the model\r\n",
        "        out, h = net(inputs, h)\r\n",
        "\r\n",
        "        # get the character probabilities\r\n",
        "        p = F.softmax(out, dim=1).data\r\n",
        "        if(train_on_gpu):\r\n",
        "            p = p.cpu() # move to cpu\r\n",
        "        \r\n",
        "        # get top characters\r\n",
        "        if top_k is None:\r\n",
        "            top_ch = np.arange(len(net.chars))\r\n",
        "        else:\r\n",
        "            p, top_ch = p.topk(top_k)\r\n",
        "            top_ch = top_ch.numpy().squeeze()\r\n",
        "        \r\n",
        "        # select the likely next character with some element of randomness\r\n",
        "        p = p.numpy().squeeze()\r\n",
        "        char = np.random.choice(top_ch, p=p/p.sum())\r\n",
        "        \r\n",
        "        # return the encoded value of the predicted char and the hidden state\r\n",
        "        return net.int2char[char], h"
      ],
      "outputs": [],
      "metadata": {
        "id": "l-_eMPclh2gO",
        "colab_type": "code",
        "colab": {}
      }
    },
    {
      "cell_type": "code",
      "execution_count": 184,
      "source": [
        "def sample(net, size, prime='Once upon a time', top_k=None):\r\n",
        "        \r\n",
        "    if(train_on_gpu):\r\n",
        "        net.cuda()\r\n",
        "    else:\r\n",
        "        net.cpu()\r\n",
        "    \r\n",
        "    net.eval() # eval mode\r\n",
        "    \r\n",
        "    # First off, run through the prime characters\r\n",
        "    chars = [ch for ch in prime]\r\n",
        "    h = net.init_hidden(1)\r\n",
        "    for ch in prime:\r\n",
        "        char, h = predict(net, ch, h, top_k=top_k)\r\n",
        "\r\n",
        "    chars.append(char)\r\n",
        "    \r\n",
        "    # Now pass in the previous character and get a new one\r\n",
        "    for ii in range(size):\r\n",
        "        char, h = predict(net, chars[-1], h, top_k=top_k)\r\n",
        "        chars.append(char)\r\n",
        "\r\n",
        "    return ''.join(chars)"
      ],
      "outputs": [],
      "metadata": {
        "id": "0zGB7BhciLzt",
        "colab_type": "code",
        "colab": {}
      }
    },
    {
      "cell_type": "code",
      "execution_count": 196,
      "source": [
        "h = net.init_hidden(1)\r\n",
        "predict(net, 'අත්', h, top_k=5)[0]"
      ],
      "outputs": [
        {
          "output_type": "execute_result",
          "data": {
            "text/plain": [
              "'ල'"
            ]
          },
          "metadata": {},
          "execution_count": 196
        }
      ],
      "metadata": {}
    },
    {
      "cell_type": "code",
      "execution_count": 193,
      "source": [
        "print(sample(net, 8, prime='රත්නාය', top_k=10))"
      ],
      "outputs": [
        {
          "output_type": "stream",
          "name": "stdout",
          "text": [
            "රත්නායි\n",
            "ා\n",
            "්\n",
            "න්\n",
            "\n"
          ]
        }
      ],
      "metadata": {
        "id": "6ypExwuliOFt",
        "colab_type": "code",
        "outputId": "b919dddb-bb0c-4217-c917-59d10add25fd",
        "colab": {
          "base_uri": "https://localhost:8080/",
          "height": 570
        }
      }
    },
    {
      "cell_type": "code",
      "execution_count": 188,
      "source": [
        "# Here we have loaded in a model that trained over 20 epochs `rnn_20_epoch.net`\r\n",
        "with open('rnn_20_epoch.net', 'rb') as f:\r\n",
        "    checkpoint = torch.load(f)\r\n",
        "    \r\n",
        "loaded = CharRNN(checkpoint['tokens'], n_hidden=checkpoint['n_hidden'], n_layers=checkpoint['n_layers'])\r\n",
        "loaded.load_state_dict(checkpoint['state_dict'])"
      ],
      "outputs": [
        {
          "output_type": "error",
          "ename": "RuntimeError",
          "evalue": "PytorchStreamReader failed reading zip archive: failed finding central directory",
          "traceback": [
            "\u001b[1;31m---------------------------------------------------------------------------\u001b[0m",
            "\u001b[1;31mRuntimeError\u001b[0m                              Traceback (most recent call last)",
            "\u001b[1;32m<ipython-input-188-c5f434b9c206>\u001b[0m in \u001b[0;36m<module>\u001b[1;34m\u001b[0m\n\u001b[0;32m      1\u001b[0m \u001b[1;31m# Here we have loaded in a model that trained over 20 epochs `rnn_20_epoch.net`\u001b[0m\u001b[1;33m\u001b[0m\u001b[1;33m\u001b[0m\u001b[1;33m\u001b[0m\u001b[0m\n\u001b[0;32m      2\u001b[0m \u001b[1;32mwith\u001b[0m \u001b[0mopen\u001b[0m\u001b[1;33m(\u001b[0m\u001b[1;34m'rnn_20_epoch.net'\u001b[0m\u001b[1;33m,\u001b[0m \u001b[1;34m'rb'\u001b[0m\u001b[1;33m)\u001b[0m \u001b[1;32mas\u001b[0m \u001b[0mf\u001b[0m\u001b[1;33m:\u001b[0m\u001b[1;33m\u001b[0m\u001b[1;33m\u001b[0m\u001b[0m\n\u001b[1;32m----> 3\u001b[1;33m     \u001b[0mcheckpoint\u001b[0m \u001b[1;33m=\u001b[0m \u001b[0mtorch\u001b[0m\u001b[1;33m.\u001b[0m\u001b[0mload\u001b[0m\u001b[1;33m(\u001b[0m\u001b[0mf\u001b[0m\u001b[1;33m)\u001b[0m\u001b[1;33m\u001b[0m\u001b[1;33m\u001b[0m\u001b[0m\n\u001b[0m\u001b[0;32m      4\u001b[0m \u001b[1;33m\u001b[0m\u001b[0m\n\u001b[0;32m      5\u001b[0m \u001b[0mloaded\u001b[0m \u001b[1;33m=\u001b[0m \u001b[0mCharRNN\u001b[0m\u001b[1;33m(\u001b[0m\u001b[0mcheckpoint\u001b[0m\u001b[1;33m[\u001b[0m\u001b[1;34m'tokens'\u001b[0m\u001b[1;33m]\u001b[0m\u001b[1;33m,\u001b[0m \u001b[0mn_hidden\u001b[0m\u001b[1;33m=\u001b[0m\u001b[0mcheckpoint\u001b[0m\u001b[1;33m[\u001b[0m\u001b[1;34m'n_hidden'\u001b[0m\u001b[1;33m]\u001b[0m\u001b[1;33m,\u001b[0m \u001b[0mn_layers\u001b[0m\u001b[1;33m=\u001b[0m\u001b[0mcheckpoint\u001b[0m\u001b[1;33m[\u001b[0m\u001b[1;34m'n_layers'\u001b[0m\u001b[1;33m]\u001b[0m\u001b[1;33m)\u001b[0m\u001b[1;33m\u001b[0m\u001b[1;33m\u001b[0m\u001b[0m\n",
            "\u001b[1;32mD:\\Anaconda3\\envs\\pyTorchEnv\\lib\\site-packages\\torch\\serialization.py\u001b[0m in \u001b[0;36mload\u001b[1;34m(f, map_location, pickle_module, **pickle_load_args)\u001b[0m\n\u001b[0;32m    598\u001b[0m             \u001b[1;31m# reset back to the original position.\u001b[0m\u001b[1;33m\u001b[0m\u001b[1;33m\u001b[0m\u001b[1;33m\u001b[0m\u001b[0m\n\u001b[0;32m    599\u001b[0m             \u001b[0morig_position\u001b[0m \u001b[1;33m=\u001b[0m \u001b[0mopened_file\u001b[0m\u001b[1;33m.\u001b[0m\u001b[0mtell\u001b[0m\u001b[1;33m(\u001b[0m\u001b[1;33m)\u001b[0m\u001b[1;33m\u001b[0m\u001b[1;33m\u001b[0m\u001b[0m\n\u001b[1;32m--> 600\u001b[1;33m             \u001b[1;32mwith\u001b[0m \u001b[0m_open_zipfile_reader\u001b[0m\u001b[1;33m(\u001b[0m\u001b[0mopened_file\u001b[0m\u001b[1;33m)\u001b[0m \u001b[1;32mas\u001b[0m \u001b[0mopened_zipfile\u001b[0m\u001b[1;33m:\u001b[0m\u001b[1;33m\u001b[0m\u001b[1;33m\u001b[0m\u001b[0m\n\u001b[0m\u001b[0;32m    601\u001b[0m                 \u001b[1;32mif\u001b[0m \u001b[0m_is_torchscript_zip\u001b[0m\u001b[1;33m(\u001b[0m\u001b[0mopened_zipfile\u001b[0m\u001b[1;33m)\u001b[0m\u001b[1;33m:\u001b[0m\u001b[1;33m\u001b[0m\u001b[1;33m\u001b[0m\u001b[0m\n\u001b[0;32m    602\u001b[0m                     warnings.warn(\"'torch.load' received a zip file that looks like a TorchScript archive\"\n",
            "\u001b[1;32mD:\\Anaconda3\\envs\\pyTorchEnv\\lib\\site-packages\\torch\\serialization.py\u001b[0m in \u001b[0;36m__init__\u001b[1;34m(self, name_or_buffer)\u001b[0m\n\u001b[0;32m    240\u001b[0m \u001b[1;32mclass\u001b[0m \u001b[0m_open_zipfile_reader\u001b[0m\u001b[1;33m(\u001b[0m\u001b[0m_opener\u001b[0m\u001b[1;33m)\u001b[0m\u001b[1;33m:\u001b[0m\u001b[1;33m\u001b[0m\u001b[1;33m\u001b[0m\u001b[0m\n\u001b[0;32m    241\u001b[0m     \u001b[1;32mdef\u001b[0m \u001b[0m__init__\u001b[0m\u001b[1;33m(\u001b[0m\u001b[0mself\u001b[0m\u001b[1;33m,\u001b[0m \u001b[0mname_or_buffer\u001b[0m\u001b[1;33m)\u001b[0m \u001b[1;33m->\u001b[0m \u001b[1;32mNone\u001b[0m\u001b[1;33m:\u001b[0m\u001b[1;33m\u001b[0m\u001b[1;33m\u001b[0m\u001b[0m\n\u001b[1;32m--> 242\u001b[1;33m         \u001b[0msuper\u001b[0m\u001b[1;33m(\u001b[0m\u001b[0m_open_zipfile_reader\u001b[0m\u001b[1;33m,\u001b[0m \u001b[0mself\u001b[0m\u001b[1;33m)\u001b[0m\u001b[1;33m.\u001b[0m\u001b[0m__init__\u001b[0m\u001b[1;33m(\u001b[0m\u001b[0mtorch\u001b[0m\u001b[1;33m.\u001b[0m\u001b[0m_C\u001b[0m\u001b[1;33m.\u001b[0m\u001b[0mPyTorchFileReader\u001b[0m\u001b[1;33m(\u001b[0m\u001b[0mname_or_buffer\u001b[0m\u001b[1;33m)\u001b[0m\u001b[1;33m)\u001b[0m\u001b[1;33m\u001b[0m\u001b[1;33m\u001b[0m\u001b[0m\n\u001b[0m\u001b[0;32m    243\u001b[0m \u001b[1;33m\u001b[0m\u001b[0m\n\u001b[0;32m    244\u001b[0m \u001b[1;33m\u001b[0m\u001b[0m\n",
            "\u001b[1;31mRuntimeError\u001b[0m: PytorchStreamReader failed reading zip archive: failed finding central directory"
          ]
        }
      ],
      "metadata": {
        "id": "izW3TQATiU7W",
        "colab_type": "code",
        "colab": {}
      }
    },
    {
      "cell_type": "code",
      "execution_count": null,
      "source": [
        "# Sample using a loaded model\r\n",
        "print(sample(loaded, 2000, top_k=5, prime=\"The beautiful\"))"
      ],
      "outputs": [
        {
          "output_type": "stream",
          "name": "stdout",
          "text": [
            "The beautiful cried was the best of\n",
            "the castle, and asked all the house.\n",
            "\n",
            "The King appraned to shut themselves because he had nothing at lint, and he set his pack, and she\n",
            "thick was standing to the maiden. But the King went and began to\n",
            "say. And she said that the King and caught her and was so things of they sang, but they\n",
            "light it to home, and said,\n",
            "“And no longer straight into\n",
            "a tree and want, and to must see itself beside the children will be shuning from him before he, sid they will soon asked her beautiful daughter.”\n",
            "\n",
            "At last, the maiden cried, “What sought itself? I had a song fairest with tired.”\n",
            "\n",
            "“Alas,” said the mother, “I will say:\n",
            "\n",
            "    “_Blow, bleat, my little beard to you?” but a single continued and traveled away from the bed and said, “Now I will not do you. As I am so beautiful that I have to do you this.”\n",
            "\n",
            "When the King’s Daughter had grown forether on the second time to himself, and the\n",
            "stones came and before the King’s Son covered with her. And in the three laskest shuttle and\n",
            "thought that its wealted chincels before it to them there, threw in the bedside, which\n",
            "was the whole forest, she\n",
            "washed to be seen, and was standing to stim by her well,\n",
            "but the King came to the finest, and said, “If you will shut him that she has shired,\n",
            "and standing\n",
            "to her ass the whole one and high in me in his beausiful sisters to the mother’s bed to be to drink, and she was\n",
            "a small first, but said his weeks will be so should be surrounded for\n",
            "me.”\n",
            "\n",
            "Then the King’s Son asked, “There the second still\n",
            "father and\n",
            "time,” answered the woman. There was nothing but was the first and saw\n",
            "that it was so hard, and how she saw a small heart of\n",
            "sarace. And when he went to the midst, and he contedt to go to her the mountains in\n",
            "the clums and could not come and share the birds and single form to sleep in with his shoulder, and the King who saw that the third castle\n",
            "said, “Well as the best way, and so much as the man set it. It is silly find all\n",
            "the falles and give up for my little girl.”\n",
            "\n",
            "And as as \n"
          ]
        }
      ],
      "metadata": {
        "id": "PnwC59dtiXG4",
        "colab_type": "code",
        "outputId": "aa334f10-6588-40d8-b5a9-9ad155c1740b",
        "colab": {
          "base_uri": "https://localhost:8080/",
          "height": 653
        }
      }
    }
  ]
}