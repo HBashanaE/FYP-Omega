{
 "cells": [
  {
   "cell_type": "code",
   "execution_count": 8,
   "metadata": {},
   "outputs": [],
   "source": [
    "import numpy as np\n",
    "import pandas as pd\n",
    "import matplotlib.pyplot as plt\n",
    "import matplotlib.cm as cm\n",
    "\n",
    "from sklearn.cluster import MiniBatchKMeans\n",
    "from sklearn.feature_extraction.text import TfidfVectorizer\n",
    "from sklearn.decomposition import PCA\n",
    "from sklearn.manifold import TSNE"
   ]
  },
  {
   "cell_type": "code",
   "execution_count": 29,
   "metadata": {},
   "outputs": [
    {
     "name": "stderr",
     "output_type": "stream",
     "text": [
      "C:\\Users\\Yasith\\anaconda3\\lib\\site-packages\\sklearn\\feature_extraction\\text.py:489: UserWarning: The parameter 'token_pattern' will not be used since 'tokenizer' is not None'\n",
      "  warnings.warn(\"The parameter 'token_pattern' will not be used\"\n"
     ]
    }
   ],
   "source": [
    "suffixesList = [ \n",
    "    \"්\", \n",
    "    \"ා\", \n",
    "    \"ැ\", \n",
    "    \"ෑ\", \n",
    "    \"ි\", \n",
    "    \"ී\", \n",
    "    \"ු\", \n",
    "    \"ූ\", \n",
    "    \"ෙ\", \n",
    "    \"ේ\", \n",
    "    \"ෛ\", \n",
    "    \"ො\", \n",
    "    \"ෝ\" ,\n",
    "    \"ෞ\",\n",
    "    \"ෘ\",\n",
    "    \"ෲ\",\n",
    "    \"ං\"\n",
    "    ]\n",
    "\n",
    "def tokenize(text):\n",
    "    tokens = []\n",
    "    li = 1\n",
    "    while li < len(text):\n",
    "    # for li in range(1, len(text)):\n",
    "        prevChar, currentChar = text[li - 1], text[li]\n",
    "        if(currentChar == '\\u200d'):\n",
    "                if(li < len(text) - 1):\n",
    "                    if(prevChar == suffixesList[0] and (text[li + 1] == 'ර' or text[li + 1] == 'ය' or text[li + 1] == 'ද')):\n",
    "                        tokens.append(tokens.pop()+currentChar+text[li + 1])\n",
    "                        li += 1\n",
    "        elif(currentChar in suffixesList):\n",
    "            if(li != 1):\n",
    "                tokens.append(f\"{tokens.pop()}{currentChar}\")\n",
    "            else:\n",
    "                tokens.append(f\"{prevChar}{currentChar}\")\n",
    "        else:\n",
    "            if(li == 1):\n",
    "                tokens.append(prevChar)\n",
    "            tokens.append(currentChar)\n",
    "        li += 1\n",
    "    return tokens\n",
    "\n"
   ]
  },
  {
   "cell_type": "code",
   "execution_count": 5,
   "metadata": {},
   "outputs": [
    {
     "name": "stdout",
     "output_type": "stream",
     "text": [
      "160\n"
     ]
    }
   ],
   "source": [
    "from fuzzywuzzy import fuzz\n",
    "\n",
    "uni = open('c:\\\\Users\\\\Yasith\\\\Documents\\\\GitHub\\\\FYP-Omega\\\\Data/unique names.txt', 'r', encoding='utf-8').readlines()\n",
    "\n",
    "combined_list = uni\n",
    "\n",
    "grs = list() # groups of names with distance > 80\n",
    "for name in combined_list:\n",
    "    for g in grs:\n",
    "        if all(fuzz.ratio(name, w) > 20 for w in g):\n",
    "            g.append(name)\n",
    "            break\n",
    "    else:\n",
    "        grs.append([name, ])\n",
    "\n",
    "#print('output groups:', grs)\n",
    "outlist = [el for g in grs for el in g]\n",
    "print(len(grs))\n",
    "#print('output list:', outlist)\n"
   ]
  }
 ],
 "metadata": {
  "interpreter": {
   "hash": "627a90b54e6da1f209648a2c9c5f7e12610f05c4265361c3c1b7d26135e86100"
  },
  "kernelspec": {
   "display_name": "Python 3.8.8 64-bit ('base': conda)",
   "language": "python",
   "name": "python3"
  },
  "language_info": {
   "codemirror_mode": {
    "name": "ipython",
    "version": 3
   },
   "file_extension": ".py",
   "mimetype": "text/x-python",
   "name": "python",
   "nbconvert_exporter": "python",
   "pygments_lexer": "ipython3",
   "version": "3.8.8"
  },
  "orig_nbformat": 4
 },
 "nbformat": 4,
 "nbformat_minor": 2
}
