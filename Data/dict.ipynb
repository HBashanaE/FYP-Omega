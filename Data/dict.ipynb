{
 "cells": [
  {
   "cell_type": "code",
   "execution_count": 22,
   "metadata": {},
   "outputs": [],
   "source": [
    "from collections import defaultdict\n",
    "from unicodedata import normalize as unicodeNormalize\n",
    "import regex as re\n",
    "\n",
    "di = defaultdict(int)\n",
    "with open('c:\\\\Users\\\\Yasith\\\\Documents\\\\GitHub\\\\FYP-Omega\\\\Data/combined all names and addresses - cleaned - train.txt', 'r', encoding='utf-8') as f:\n",
    "    for line in f.readlines():\n",
    "        line = re.sub(r'[^\\w]|_|[a-zA-Z]|\\u200c', ' ', line)\n",
    "        line = unicodeNormalize(\"NFC\", line.strip())\n",
    "        for sub in line.split():\n",
    "            di[sub]+=1"
   ]
  },
  {
   "cell_type": "code",
   "execution_count": 25,
   "metadata": {},
   "outputs": [],
   "source": [
    "import math\n",
    "logdi=defaultdict(float)\n",
    "for x, y in di.items():\n",
    "  logdi[x] = round(math.log10(y+10), 2)"
   ]
  },
  {
   "cell_type": "code",
   "execution_count": 20,
   "metadata": {},
   "outputs": [
    {
     "data": {
      "text/plain": [
       "{}"
      ]
     },
     "execution_count": 20,
     "metadata": {},
     "output_type": "execute_result"
    }
   ],
   "source": [
    "count = {k: v for k, v in sorted(logdi.items(), key=lambda item: item[1], reverse=True)}\n",
    "count"
   ]
  },
  {
   "cell_type": "code",
   "execution_count": 29,
   "metadata": {},
   "outputs": [],
   "source": [
    "import json\n",
    "\n",
    "# Serialize data into file:\n",
    "json.dump( logdi, open( \"dictionary.json\", 'w',encoding='utf8' ), ensure_ascii=False )"
   ]
  }
 ],
 "metadata": {
  "interpreter": {
   "hash": "627a90b54e6da1f209648a2c9c5f7e12610f05c4265361c3c1b7d26135e86100"
  },
  "kernelspec": {
   "display_name": "Python 3.8.8 ('base')",
   "language": "python",
   "name": "python3"
  },
  "language_info": {
   "codemirror_mode": {
    "name": "ipython",
    "version": 3
   },
   "file_extension": ".py",
   "mimetype": "text/x-python",
   "name": "python",
   "nbconvert_exporter": "python",
   "pygments_lexer": "ipython3",
   "version": "3.8.8"
  },
  "orig_nbformat": 4
 },
 "nbformat": 4,
 "nbformat_minor": 2
}
